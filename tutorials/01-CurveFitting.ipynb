{
  "nbformat": 4,
  "nbformat_minor": 0,
  "metadata": {
    "colab": {
      "name": "tutorials_01-LinearRegression.ipynb",
      "version": "0.3.2",
      "provenance": [],
      "collapsed_sections": []
    },
    "kernelspec": {
      "display_name": "Python 2",
      "language": "python",
      "name": "python2"
    }
  },
  "cells": [
    {
      "metadata": {
        "colab_type": "text",
        "id": "NDdbPOAglmA2"
      },
      "cell_type": "markdown",
      "source": [
        "# 1 Linear Regression - Curve Fitting (Python)"
      ]
    },
    {
      "metadata": {
        "colab_type": "text",
        "id": "pq93TYwjlmA8"
      },
      "cell_type": "markdown",
      "source": [
        "## 1.1 Data generation\n",
        "First, we need to generate the ground truth data. We begin by defining the following polynomial to be the \"true\" model: \n",
        "\n",
        "\\begin{equation}\n",
        "t = w_2x^2 + w_1x +w_0\n",
        "\\end{equation}\n",
        "\n",
        "\n",
        "To generate the target values $t$, we sample $n$ equidistant values for $x$ in a range of $[-1,1]$ and use the above polynomial equation to generate $t$. To \"simulate\" the real-world scenario, where the observed data usually come with stochastic noise, we add random Gaussian noise to our target values. "
      ]
    },
    {
      "metadata": {
        "colab_type": "code",
        "id": "fNL18VKdlmBB",
        "colab": {
          "base_uri": "https://localhost:8080/",
          "height": 89
        },
        "outputId": "f1da3bcc-d308-4bcf-91af-c87c4d30795c"
      },
      "cell_type": "code",
      "source": [
        "import random\n",
        "\n",
        "\n",
        "# get ground-truth data from the \"true\" model \n",
        "n = 20  # number of data samples\n",
        "# when generating our variables, we will make use of list comprehension in Python\n",
        "x = [(idx-round(n/2))/(n/2) for idx in range(n)]\n",
        "print(x)\n",
        "\n",
        "w = [1, 2, 3]\n",
        "t = [xn**2*w[2] + xn*w[1] + w[0] for xn in x]\n",
        "print(t)\n",
        "\n",
        "# \"simulated\" observed target values\n",
        "std_noise = 0.2\n",
        "t_observed = [t[idx]+random.gauss(0,std_noise) for idx in range(n)]\n",
        "\n",
        "print(t_observed)"
      ],
      "execution_count": 2,
      "outputs": [
        {
          "output_type": "stream",
          "text": [
            "[-1.0, -0.9, -0.8, -0.7, -0.6, -0.5, -0.4, -0.3, -0.2, -0.1, 0.0, 0.1, 0.2, 0.3, 0.4, 0.5, 0.6, 0.7, 0.8, 0.9]\n",
            "[2.0, 1.6300000000000001, 1.3200000000000003, 1.0699999999999998, 0.8800000000000001, 0.75, 0.68, 0.67, 0.72, 0.83, 1.0, 1.23, 1.52, 1.87, 2.2800000000000002, 2.75, 3.2800000000000002, 3.8699999999999997, 4.5200000000000005, 5.23]\n",
            "[2.181371901438215, 1.6753633594265795, 1.5582208133091322, 1.169590577723886, 1.133728038444048, 0.6647892899472537, 0.7795825805552488, 0.7456544488543022, 0.8968726385373862, 1.119319557336747, 1.2113584646445559, 1.1717533992080584, 1.2968818146950332, 2.015478406351207, 2.382394957129486, 2.5912357196551574, 3.3004967138483843, 3.6983071677233776, 4.58773334039128, 5.0325773785642385]\n"
          ],
          "name": "stdout"
        }
      ]
    },
    {
      "metadata": {
        "id": "ftWndRoakduW",
        "colab_type": "text"
      },
      "cell_type": "markdown",
      "source": [
        "Python plotting library [matplotlib](https://matplotlib.org/) is used to plot the observed target values `t_observed` with respect to each sampling location $x$ in blue points [`x`,`t_observed`]. We can also plot the noise-free \"true\" target values `t` versus the same `x`. This represents the underlying model as a curve."
      ]
    },
    {
      "metadata": {
        "colab_type": "code",
        "id": "s-vN0zD8lmBa",
        "colab": {
          "base_uri": "https://localhost:8080/",
          "height": 297
        },
        "outputId": "11666d55-a864-47e5-a466-7bbce4feda1c"
      },
      "cell_type": "code",
      "source": [
        "# this line is useful for jupyter notebook only\n",
        "%matplotlib inline\n",
        "\n",
        "import matplotlib.pyplot as plt\n",
        "\n",
        "# plot the curve and the noise-corrupted data\n",
        "plt.plot(x,t,'r')\n",
        "plt.plot(x,t_observed,'bo')\n",
        "plt.ylabel('$t$')\n",
        "plt.xlabel('$x$')"
      ],
      "execution_count": 5,
      "outputs": [
        {
          "output_type": "execute_result",
          "data": {
            "text/plain": [
              "Text(0.5,0,'$x$')"
            ]
          },
          "metadata": {
            "tags": []
          },
          "execution_count": 5
        },
        {
          "output_type": "display_data",
          "data": {
            "image/png": "[encoded data removed]",
            "text/plain": [
              "<Figure size 432x288 with 1 Axes>"
            ]
          },
          "metadata": {
            "tags": []
          }
        }
      ]
    },
    {
      "metadata": {
        "colab_type": "text",
        "id": "XyAazZJKlmBx"
      },
      "cell_type": "markdown",
      "source": [
        "## 1.2 Model Fitting\n",
        "For numerical computations such as curve fitting, we can use Python's powerful [numpy](http://www.numpy.org/) library. In this tutorial, we use [*numpy.linalg.lstsq*](https://docs.scipy.org/doc/numpy-1.15.1/reference/generated/numpy.linalg.lstsq.html#numpy.linalg.lstsq) to solve [a system of linear equations](https://en.wikipedia.org/wiki/System_of_linear_equations) $\\textbf{a}\\textbf{x}=\\textbf{b}$ for a [least sqaures solution](https://en.wikipedia.org/wiki/Least_squares).\n",
        "\n",
        "Re-arrange the observed data to a linear system in matrix form \"$\\textbf{a}\\textbf{x}=\\textbf{b}$\" (N.B. in this form $\\textbf{x}$ is the unknown, not our learning input $x$):\n",
        "\n",
        "\\begin{equation}\n",
        "\\textbf{t} = \\textbf{X}\\textbf{w}\n",
        "\\end{equation}\n",
        "\n",
        "that is:\n",
        "\n",
        "\\begin{equation}\n",
        "\\begin{vmatrix}\n",
        "t_{(1)} \\\\ t_{(2)} \\\\ \\cdots \\\\ t_{(n)}\n",
        "\\end{vmatrix} = \\begin{vmatrix}\n",
        "x^2_{(1)} & x_{(1)} & 1 \\\\\n",
        "x^2_{(2)} & x_{(2)} & 1 \\\\\n",
        "& \\cdots \\\\\n",
        "x^2_{(n)} & x_{(n)} & 1 \n",
        "\\end{vmatrix} \\cdot\n",
        "\\begin{vmatrix}\n",
        "w_2 \\\\ w_1 \\\\ w_0\n",
        "\\end{vmatrix}\n",
        "\\end{equation}\n",
        "\n"
      ]
    },
    {
      "metadata": {
        "colab_type": "code",
        "id": "4kLuMm_vlmB0",
        "colab": {
          "base_uri": "https://localhost:8080/",
          "height": 451
        },
        "outputId": "0ae8e89a-941c-4619-d537-e37dad0f16fa"
      },
      "cell_type": "code",
      "source": [
        "# use nunmpy for a least-square solution to the linear system \"Xw=t\"\n",
        "import numpy as np\n",
        "\n",
        "# first we need to turn t and x into numpy arrays as column vectors \n",
        "t_observed = np.reshape(t_observed, [-1, 1]) # -1 infers the length from the input vector\n",
        "x_1 = np.reshape(x, [-1, 1])\n",
        "x_2 = np.square(x_1)\n",
        "x_0 = np.ones_like(x_1)\n",
        "X = np.concatenate([x_2,x_1,x_0],1)\n",
        "# print to check the inputs and their array shapes\n",
        "print(X)\n",
        "print(X.shape)\n",
        "print(t_observed.shape)\n",
        "w_estimate = np.linalg.lstsq(X, t_observed, rcond=None)\n",
        "print(w_estimate[0])  # print the output\n",
        "\n",
        "# calculate the estimated curve, i.e.\n",
        "# t_estimate = [xn**2*w_estimate[2]+xn*w_estimate[1]+w_estimate[0] for xn in x]\n",
        "# but matrix multiplication is more compact:\n",
        "t_estimate = np.matmul(X,w_estimate[0])"
      ],
      "execution_count": 6,
      "outputs": [
        {
          "output_type": "stream",
          "text": [
            "[[ 1.   -1.    1.  ]\n",
            " [ 0.81 -0.9   1.  ]\n",
            " [ 0.64 -0.8   1.  ]\n",
            " [ 0.49 -0.7   1.  ]\n",
            " [ 0.36 -0.6   1.  ]\n",
            " [ 0.25 -0.5   1.  ]\n",
            " [ 0.16 -0.4   1.  ]\n",
            " [ 0.09 -0.3   1.  ]\n",
            " [ 0.04 -0.2   1.  ]\n",
            " [ 0.01 -0.1   1.  ]\n",
            " [ 0.    0.    1.  ]\n",
            " [ 0.01  0.1   1.  ]\n",
            " [ 0.04  0.2   1.  ]\n",
            " [ 0.09  0.3   1.  ]\n",
            " [ 0.16  0.4   1.  ]\n",
            " [ 0.25  0.5   1.  ]\n",
            " [ 0.36  0.6   1.  ]\n",
            " [ 0.49  0.7   1.  ]\n",
            " [ 0.64  0.8   1.  ]\n",
            " [ 0.81  0.9   1.  ]]\n",
            "(20, 3)\n",
            "(20, 1)\n",
            "[[2.91019584]\n",
            " [1.84967667]\n",
            " [1.07820376]]\n"
          ],
          "name": "stdout"
        }
      ]
    },
    {
      "metadata": {
        "id": "NcQDOnaWkdug",
        "colab_type": "text"
      },
      "cell_type": "markdown",
      "source": [
        "`w_estimate` are the best estimates of the weights $w$ - in a least squares sense. Finally, we can add a green curve (formed by points [`x`, `t_estimate`]) to the previous plot to visualise the estimated polynomial:"
      ]
    },
    {
      "metadata": {
        "colab_type": "text",
        "id": "_zaoUWBtlmCC"
      },
      "cell_type": "markdown",
      "source": [
        "## 1.3 Model Fitting Error\n",
        "From the above plot, we can see that the green curve (i.e. the fitted polynomial model) does not go through all of the observed points (in blue) which were used in fitting the model. This is known as redidual error (also known as training error). \n",
        "\n",
        "There is also discrepancy between the \"true\" curve (in red) and the estimated one (in green), but this difference is often impossible to obtain without access to the true underlying model."
      ]
    },
    {
      "metadata": {
        "colab_type": "code",
        "id": "SxRPpS-s_EPP",
        "colab": {}
      },
      "cell_type": "code",
      "source": [
        "# Calculate the sum of residuals and the root-mean-square error\n",
        "\n",
        "# residuals:\n",
        "Residuals = t_estimate-t_observed\n",
        "SR = np.sum(np.square(Residuals))  # sums of residuals: b - a*x\n",
        "# root-mean-square error\n",
        "RMSE = np.sqrt(np.mean(np.square(Residuals)))\n",
        "print(SR)\n",
        "print(RMSE)\n",
        "\n",
        "# plot the error distribution\n",
        "plt.hist(Residuals)\n",
        "plt.xlabel('Residuals')"
      ],
      "execution_count": 0,
      "outputs": []
    },
    {
      "metadata": {
        "colab_type": "text",
        "id": "hUlz_pjSSwv9"
      },
      "cell_type": "markdown",
      "source": [
        "## Questions\n",
        "### Sample size\n",
        "1. What is the effect on changing the sample size `n` on the model fitting and its errors?\n",
        "2. How many samples are needed and why? \n",
        "3. What is the effect on the required sample size when the number of parameters in `w` is increased (i.e. increasing the order of the true polynomial)? \n",
        "\n",
        "### Model fitting\n",
        "1. What is the objective (loss) function in this curve fitting problem?\n",
        "2. How does change of the noise level (i.e. `std_noise`) affect the model fitting?\n",
        "3. Are residualds a good estimate of the difference to the \"true\" target values and why?\n",
        "4. How can we measure how \"good\" (or generalisable) the `t_estimated` values are?  "
      ]
    },
    {
      "metadata": {
        "id": "gHYjHhU1kdur",
        "colab_type": "code",
        "colab": {}
      },
      "cell_type": "code",
      "source": [
        ""
      ],
      "execution_count": 0,
      "outputs": []
    }
  ]
}