{
  "nbformat": 4,
  "nbformat_minor": 0,
  "metadata": {
    "colab": {
      "name": "tutorials_3-CurveFitting-TensorFlow.ipynb",
      "version": "0.3.2",
      "provenance": [],
      "collapsed_sections": []
    },
    "kernelspec": {
      "name": "python2",
      "display_name": "Python 2"
    },
    "accelerator": "GPU"
  },
  "cells": [
    {
      "metadata": {
        "colab_type": "text",
        "id": "u6-He3cXBKfM"
      },
      "cell_type": "markdown",
      "source": [
        "# 3 Linear Regression - Curve Fitting (TensorFlow)\n",
        "In this tutorial we will use two methods to fit a curve using [TensorFlow](https://www.tensorflow.org/):\n",
        "- Direct solution using the least-squares method - this is the same method used in the previous tutorial with NumPy \n",
        "- Iterative optimisation using [stochastic gradient descent](https://en.wikipedia.org/wiki/Stochastic_gradient_descent/)"
      ]
    },
    {
      "metadata": {
        "colab_type": "text",
        "id": "pU5v5NAxBKfQ"
      },
      "cell_type": "markdown",
      "source": [
        "## 3.1 Data\n",
        "First, as before, we sample $n$ observed data from the underlying polynomial defined by weights $w$:"
      ]
    },
    {
      "metadata": {
        "colab_type": "code",
        "id": "i2T4JW1SBKfU",
        "colab": {}
      },
      "cell_type": "code",
      "source": [
        "import random\n",
        "import numpy as np\n",
        "\n",
        "# get ground-truth data from the \"true\" model \n",
        "n = 100 \n",
        "w = [4, 3, 2, 1]\n",
        "x = np.linspace(-1,1,n)[:,np.newaxis]\n",
        "t = np.matmul(np.power(np.reshape(x,[-1,1]), \n",
        "                       np.linspace(len(w)-1,0,len(w))), w)\n",
        "std_noise = 0.2\n",
        "t_observed = np.reshape(\n",
        "    [t[idx]+random.gauss(0,std_noise) for idx in range(n)],\n",
        "    [-1,1])"
      ],
      "execution_count": 0,
      "outputs": []
    },
    {
      "metadata": {
        "colab_type": "text",
        "id": "VmgdFSrvBKfc"
      },
      "cell_type": "markdown",
      "source": [
        "## 3.2 Computation Graph and Session\n",
        "[Graphs and sessions](https://www.tensorflow.org/guide/graphs) are important features of TensorFlow. Briefly:\n",
        "1. a **graph** needs to be built to specify what computations are required; the graphs are made up of nodes (mathematical operations) and edges (multidimensional data arrays, i.e. *tensors*, that are consumed or produced by a computation)\n",
        "1. **sessions** are then constructed to specify what computation to run -  e.g., what data to use and in what order. \n",
        "\n",
        "To facilitate the data feeding, [**placeholders**](https://www.tensorflow.org/api_docs/python/tf/placeholder) are used. The following two methods to fit the model provide two examples of how these are used in practice."
      ]
    },
    {
      "metadata": {
        "id": "Gx0uDEF6rURs",
        "colab_type": "text"
      },
      "cell_type": "markdown",
      "source": [
        "First, we build a computation graph using \"tf functions\":"
      ]
    },
    {
      "metadata": {
        "colab_type": "code",
        "id": "8w3xBytsBKff",
        "outputId": "63428858-60b0-486d-e8f1-af9b5b37d7cb",
        "colab": {
          "base_uri": "https://localhost:8080/",
          "height": 68
        }
      },
      "cell_type": "code",
      "source": [
        "import tensorflow as tf\n",
        "\n",
        "\n",
        "# placeholders are used for feeding data in runtime\n",
        "ph_x = tf.placeholder(tf.float32, [n, 1])\n",
        "ph_t = tf.placeholder(tf.float32, [n, 1])\n",
        "\n",
        "deg = 3\n",
        "# define the computation node X\n",
        "node_X = tf.pow(ph_x, tf.linspace(tf.to_float(deg),0,deg+1))"
      ],
      "execution_count": 2,
      "outputs": [
        {
          "output_type": "stream",
          "text": [
            "WARNING:tensorflow:From <ipython-input-2-3fee1fcedbf0>:10: to_float (from tensorflow.python.ops.math_ops) is deprecated and will be removed in a future version.\n",
            "Instructions for updating:\n",
            "Use tf.cast instead.\n"
          ],
          "name": "stdout"
        }
      ]
    },
    {
      "metadata": {
        "id": "82XOeCIErURw",
        "colab_type": "text"
      },
      "cell_type": "markdown",
      "source": [
        "This above is a very simple computation graph to evaluate the polynomial using TensorFlow functions. This can be built without any real data and there has not been any computation taking place either.  \n",
        "\n",
        "Then we construct a session. And, call the run method to evaluate the node *node_X* to actually run the computation and obtain the results."
      ]
    },
    {
      "metadata": {
        "colab_type": "text",
        "id": "xUHDEl-yBKft"
      },
      "cell_type": "markdown",
      "source": [
        "## 3.3 Least-Squares Solution\n",
        "\n",
        "To begin this curve fitting tutorial, we will start with the same method from the previous NumPy tutorial: the least squares solution. The advantages of using TensorFlow are not obvious with this method, however they will become apparent later for SGD. "
      ]
    },
    {
      "metadata": {
        "colab_type": "code",
        "id": "DYZu3MyaBKfw",
        "outputId": "3b6f593c-922d-471a-aad8-096f890843fd",
        "colab": {
          "base_uri": "https://localhost:8080/",
          "height": 85
        }
      },
      "cell_type": "code",
      "source": [
        "# we complete the computation graph with the least-square solution\n",
        "node_w = tf.matrix_solve_ls(node_X, ph_t)\n",
        "\n",
        "# run the session to evaluate the node weights\n",
        "sess = tf.Session()  \n",
        "dataFeed = {ph_x:x, ph_t:t_observed}  # feed data\n",
        "w_lstsq = sess.run(node_w, feed_dict=dataFeed)\n",
        "print(w_lstsq)\n",
        "#tf.reset_default_graph()\n",
        "sess.close()\n"
      ],
      "execution_count": 3,
      "outputs": [
        {
          "output_type": "stream",
          "text": [
            "[[4.042428 ]\n",
            " [2.9618015]\n",
            " [1.9706464]\n",
            " [0.9955562]]\n"
          ],
          "name": "stdout"
        }
      ]
    },
    {
      "metadata": {
        "colab_type": "text",
        "id": "qhy2ym8FBKf8"
      },
      "cell_type": "markdown",
      "source": [
        "## 3.3 Stochastic Gradient Descend Method\n",
        "Instead of using least-squares, weights can be optimised by minimising a loss function between the predicted- and observed target values using [SGD](https://en.wikipedia.org/wiki/Stochastic_gradient_descent). SGD works by taking the gradient of a random point in our data set and using its value to inform whether to increase or decrease the value of the model weights.\n",
        "\n",
        "It is not an efficient method for this curve fitting problem; this is only for the purpose of demonstrating how an iterative method can be implemented in TensorFlow."
      ]
    },
    {
      "metadata": {
        "colab_type": "code",
        "id": "x2TDAsD-BKf_",
        "outputId": "1a0cb607-20ca-496a-bccc-04439a72cb2e",
        "colab": {
          "base_uri": "https://localhost:8080/",
          "height": 965
        }
      },
      "cell_type": "code",
      "source": [
        "# build a new graph\n",
        "ph_1x = tf.placeholder(tf.float32, [1, 1])\n",
        "ph_1t = tf.placeholder(tf.float32, [1, 1])\n",
        "\n",
        "deg = 3\n",
        "node_X = tf.pow(ph_1x, tf.linspace(tf.to_float(deg),0,deg+1))\n",
        "\n",
        "# first declare variables that need optimisation\n",
        "var_w = tf.get_variable('weights', shape=[deg+1,1], \n",
        "                        initializer=tf.random_normal_initializer(0, 1e-3))\n",
        "\n",
        "# # complete the computation graph with SGD\n",
        "# node_1t = tf.matmul(node_X, var_w)\n",
        "# # define a square loss function\n",
        "# loss = tf.reduce_mean(tf.square(node_1t-ph_1t))\n",
        "# # buiding a train-op to minimise the loss\n",
        "# train_op = tf.train.GradientDescentOptimizer(learning_rate=1e-1).minimize(loss)\n",
        "\n",
        "# # launch a session\n",
        "# sess = tf.Session()  \n",
        "# sess.run(tf.global_variables_initializer())  # initialise all the variables\n",
        "\n",
        "# # iteration to update variables with backprop gradients\n",
        "# total_iter = int(1e4)\n",
        "# indices_train = [i for i in range(n)]\n",
        "# for step in range(total_iter):\n",
        "\n",
        "#     idx = step % n\n",
        "#     if idx == 0:  # shuffle every epoch\n",
        "#         random.shuffle(indices_train)\n",
        "    \n",
        "#     # single data point feed\n",
        "#     singleDataFeed = {\n",
        "#         ph_1x:x[indices_train[idx],np.newaxis], \n",
        "#         ph_1t:t_observed[indices_train[idx],np.newaxis] }\n",
        "    \n",
        "#     # print for testing\n",
        "#     #print(singleDataFeed)\n",
        "    \n",
        "#     # update the variables\n",
        "#     sess.run(train_op, feed_dict=singleDataFeed)\n",
        "    \n",
        "#     # print training information\n",
        "#     if (step % 200) == 0:\n",
        "#         loss_train = sess.run(loss, feed_dict=singleDataFeed)\n",
        "#         print('Step %d: Loss=%f' % (step, loss_train))\n",
        "#     if (step % 2000) == 0:\n",
        "#         w_sgd = sess.run(var_w)\n",
        "#         print('Estimated weights:')\n",
        "#         print(w_sgd)\n",
        "\n",
        "# w_sgd = sess.run(var_w)\n",
        "# print('Final weights at step %d:' % step)\n",
        "# print(w_sgd)\n",
        "# sess.close()"
      ],
      "execution_count": 9,
      "outputs": [
        {
          "output_type": "error",
          "ename": "ValueError",
          "evalue": "ignored",
          "traceback": [
            "\u001b[0;31m\u001b[0m",
            "\u001b[0;31mValueError\u001b[0mTraceback (most recent call last)",
            "\u001b[0;32m<ipython-input-9-5b1108c2978c>\u001b[0m in \u001b[0;36m<module>\u001b[0;34m()\u001b[0m\n\u001b[1;32m      7\u001b[0m \u001b[0;31m# first declare variables that need optimisation\u001b[0m\u001b[0;34m\u001b[0m\u001b[0;34m\u001b[0m\u001b[0m\n\u001b[1;32m      8\u001b[0m var_w = tf.get_variable('weights', shape=[deg+1,1], \n\u001b[0;32m----> 9\u001b[0;31m                         initializer=tf.random_normal_initializer(0, 1e-3))\n\u001b[0m\u001b[1;32m     10\u001b[0m \u001b[0;34m\u001b[0m\u001b[0m\n\u001b[1;32m     11\u001b[0m \u001b[0;31m# # complete the computation graph with SGD\u001b[0m\u001b[0;34m\u001b[0m\u001b[0;34m\u001b[0m\u001b[0m\n",
            "\u001b[0;32m/usr/local/lib/python2.7/dist-packages/tensorflow/python/ops/variable_scope.pyc\u001b[0m in \u001b[0;36mget_variable\u001b[0;34m(name, shape, dtype, initializer, regularizer, trainable, collections, caching_device, partitioner, validate_shape, use_resource, custom_getter, constraint, synchronization, aggregation)\u001b[0m\n\u001b[1;32m   1477\u001b[0m       \u001b[0mconstraint\u001b[0m\u001b[0;34m=\u001b[0m\u001b[0mconstraint\u001b[0m\u001b[0;34m,\u001b[0m\u001b[0;34m\u001b[0m\u001b[0m\n\u001b[1;32m   1478\u001b[0m       \u001b[0msynchronization\u001b[0m\u001b[0;34m=\u001b[0m\u001b[0msynchronization\u001b[0m\u001b[0;34m,\u001b[0m\u001b[0;34m\u001b[0m\u001b[0m\n\u001b[0;32m-> 1479\u001b[0;31m       aggregation=aggregation)\n\u001b[0m\u001b[1;32m   1480\u001b[0m \u001b[0;34m\u001b[0m\u001b[0m\n\u001b[1;32m   1481\u001b[0m \u001b[0;34m\u001b[0m\u001b[0m\n",
            "\u001b[0;32m/usr/local/lib/python2.7/dist-packages/tensorflow/python/ops/variable_scope.pyc\u001b[0m in \u001b[0;36mget_variable\u001b[0;34m(self, var_store, name, shape, dtype, initializer, regularizer, reuse, trainable, collections, caching_device, partitioner, validate_shape, use_resource, custom_getter, constraint, synchronization, aggregation)\u001b[0m\n\u001b[1;32m   1218\u001b[0m           \u001b[0mconstraint\u001b[0m\u001b[0;34m=\u001b[0m\u001b[0mconstraint\u001b[0m\u001b[0;34m,\u001b[0m\u001b[0;34m\u001b[0m\u001b[0m\n\u001b[1;32m   1219\u001b[0m           \u001b[0msynchronization\u001b[0m\u001b[0;34m=\u001b[0m\u001b[0msynchronization\u001b[0m\u001b[0;34m,\u001b[0m\u001b[0;34m\u001b[0m\u001b[0m\n\u001b[0;32m-> 1220\u001b[0;31m           aggregation=aggregation)\n\u001b[0m\u001b[1;32m   1221\u001b[0m \u001b[0;34m\u001b[0m\u001b[0m\n\u001b[1;32m   1222\u001b[0m   def _get_partitioned_variable(self,\n",
            "\u001b[0;32m/usr/local/lib/python2.7/dist-packages/tensorflow/python/ops/variable_scope.pyc\u001b[0m in \u001b[0;36mget_variable\u001b[0;34m(self, name, shape, dtype, initializer, regularizer, reuse, trainable, collections, caching_device, partitioner, validate_shape, use_resource, custom_getter, constraint, synchronization, aggregation)\u001b[0m\n\u001b[1;32m    545\u001b[0m           \u001b[0mconstraint\u001b[0m\u001b[0;34m=\u001b[0m\u001b[0mconstraint\u001b[0m\u001b[0;34m,\u001b[0m\u001b[0;34m\u001b[0m\u001b[0m\n\u001b[1;32m    546\u001b[0m           \u001b[0msynchronization\u001b[0m\u001b[0;34m=\u001b[0m\u001b[0msynchronization\u001b[0m\u001b[0;34m,\u001b[0m\u001b[0;34m\u001b[0m\u001b[0m\n\u001b[0;32m--> 547\u001b[0;31m           aggregation=aggregation)\n\u001b[0m\u001b[1;32m    548\u001b[0m \u001b[0;34m\u001b[0m\u001b[0m\n\u001b[1;32m    549\u001b[0m   def _get_partitioned_variable(self,\n",
            "\u001b[0;32m/usr/local/lib/python2.7/dist-packages/tensorflow/python/ops/variable_scope.pyc\u001b[0m in \u001b[0;36m_true_getter\u001b[0;34m(name, shape, dtype, initializer, regularizer, reuse, trainable, collections, caching_device, partitioner, validate_shape, use_resource, constraint, synchronization, aggregation)\u001b[0m\n\u001b[1;32m    497\u001b[0m           \u001b[0mconstraint\u001b[0m\u001b[0;34m=\u001b[0m\u001b[0mconstraint\u001b[0m\u001b[0;34m,\u001b[0m\u001b[0;34m\u001b[0m\u001b[0m\n\u001b[1;32m    498\u001b[0m           \u001b[0msynchronization\u001b[0m\u001b[0;34m=\u001b[0m\u001b[0msynchronization\u001b[0m\u001b[0;34m,\u001b[0m\u001b[0;34m\u001b[0m\u001b[0m\n\u001b[0;32m--> 499\u001b[0;31m           aggregation=aggregation)\n\u001b[0m\u001b[1;32m    500\u001b[0m \u001b[0;34m\u001b[0m\u001b[0m\n\u001b[1;32m    501\u001b[0m     \u001b[0;31m# Set trainable value based on synchronization value.\u001b[0m\u001b[0;34m\u001b[0m\u001b[0;34m\u001b[0m\u001b[0m\n",
            "\u001b[0;32m/usr/local/lib/python2.7/dist-packages/tensorflow/python/ops/variable_scope.pyc\u001b[0m in \u001b[0;36m_get_single_variable\u001b[0;34m(self, name, shape, dtype, initializer, regularizer, partition_info, reuse, trainable, collections, caching_device, validate_shape, use_resource, constraint, synchronization, aggregation)\u001b[0m\n\u001b[1;32m    846\u001b[0m         \u001b[0mtb\u001b[0m \u001b[0;34m=\u001b[0m \u001b[0;34m[\u001b[0m\u001b[0mx\u001b[0m \u001b[0;32mfor\u001b[0m \u001b[0mx\u001b[0m \u001b[0;32min\u001b[0m \u001b[0mtb\u001b[0m \u001b[0;32mif\u001b[0m \u001b[0;34m\"tensorflow/python\"\u001b[0m \u001b[0;32mnot\u001b[0m \u001b[0;32min\u001b[0m \u001b[0mx\u001b[0m\u001b[0;34m[\u001b[0m\u001b[0;36m0\u001b[0m\u001b[0;34m]\u001b[0m\u001b[0;34m]\u001b[0m\u001b[0;34m[\u001b[0m\u001b[0;34m:\u001b[0m\u001b[0;36m3\u001b[0m\u001b[0;34m]\u001b[0m\u001b[0;34m\u001b[0m\u001b[0m\n\u001b[1;32m    847\u001b[0m         raise ValueError(\"%s Originally defined at:\\n\\n%s\" % (err_msg, \"\".join(\n\u001b[0;32m--> 848\u001b[0;31m             traceback.format_list(tb))))\n\u001b[0m\u001b[1;32m    849\u001b[0m       \u001b[0mfound_var\u001b[0m \u001b[0;34m=\u001b[0m \u001b[0mself\u001b[0m\u001b[0;34m.\u001b[0m\u001b[0m_vars\u001b[0m\u001b[0;34m[\u001b[0m\u001b[0mname\u001b[0m\u001b[0;34m]\u001b[0m\u001b[0;34m\u001b[0m\u001b[0m\n\u001b[1;32m    850\u001b[0m       \u001b[0;32mif\u001b[0m \u001b[0;32mnot\u001b[0m \u001b[0mshape\u001b[0m\u001b[0;34m.\u001b[0m\u001b[0mis_compatible_with\u001b[0m\u001b[0;34m(\u001b[0m\u001b[0mfound_var\u001b[0m\u001b[0;34m.\u001b[0m\u001b[0mget_shape\u001b[0m\u001b[0;34m(\u001b[0m\u001b[0;34m)\u001b[0m\u001b[0;34m)\u001b[0m\u001b[0;34m:\u001b[0m\u001b[0;34m\u001b[0m\u001b[0m\n",
            "\u001b[0;31mValueError\u001b[0m: Variable weights already exists, disallowed. Did you mean to set reuse=True or reuse=tf.AUTO_REUSE in VarScope? Originally defined at:\n\n  File \"<ipython-input-4-654fbbb476b8>\", line 9, in <module>\n    initializer=tf.random_normal_initializer(0, 1e-3))\n  File \"/usr/local/lib/python2.7/dist-packages/IPython/core/interactiveshell.py\", line 2882, in run_code\n    exec(code_obj, self.user_global_ns, self.user_ns)\n  File \"/usr/local/lib/python2.7/dist-packages/IPython/core/interactiveshell.py\", line 2822, in run_ast_nodes\n    if self.run_code(code, result):\n"
          ]
        }
      ]
    },
    {
      "metadata": {
        "id": "Qkqm5TFV-JtI",
        "colab_type": "code",
        "colab": {
          "base_uri": "https://localhost:8080/",
          "height": 1377
        },
        "outputId": "595b9f86-231b-4057-feaa-dc551f4fece0"
      },
      "cell_type": "code",
      "source": [
        "# complete the computation graph with SGD\n",
        "node_1t = tf.matmul(node_X, var_w)\n",
        "# define a square loss function\n",
        "loss = tf.reduce_mean(tf.square(node_1t-ph_1t))\n",
        "# buiding a train-op to minimise the loss\n",
        "train_op = tf.train.GradientDescentOptimizer(learning_rate=1e-1).minimize(loss)\n",
        "\n",
        "# launch a session\n",
        "sess = tf.Session()  \n",
        "sess.run(tf.global_variables_initializer())  # initialise all the variables\n",
        "\n",
        "# iteration to update variables with backprop gradients\n",
        "total_iter = int(1e4)\n",
        "indices_train = [i for i in range(n)]\n",
        "for step in range(total_iter):\n",
        "\n",
        "    idx = step % n\n",
        "    if idx == 0:  # shuffle every epoch\n",
        "        random.shuffle(indices_train)\n",
        "    \n",
        "    # single data point feed\n",
        "    singleDataFeed = {\n",
        "        ph_1x:x[indices_train[idx],np.newaxis], \n",
        "        ph_1t:t_observed[indices_train[idx],np.newaxis] }\n",
        "    \n",
        "    # print for testing\n",
        "    #print(singleDataFeed)\n",
        "    \n",
        "    # update the variables\n",
        "    sess.run(train_op, feed_dict=singleDataFeed)\n",
        "    \n",
        "    # print training information\n",
        "    if (step % 200) == 0:\n",
        "        loss_train = sess.run(loss, feed_dict=singleDataFeed)\n",
        "        print('Step %d: Loss=%f' % (step, loss_train))\n",
        "    if (step % 2000) == 0:\n",
        "        w_sgd = sess.run(var_w)\n",
        "        print('Estimated weights:')\n",
        "        print(w_sgd)\n",
        "\n",
        "w_sgd = sess.run(var_w)\n",
        "print('Final weights at step %d:' % step)\n",
        "print(w_sgd)\n",
        "sess.close()"
      ],
      "execution_count": 8,
      "outputs": [
        {
          "output_type": "stream",
          "text": [
            "Step 0: Loss=12.568729\n",
            "Estimated weights:\n",
            "[[0.59463495]\n",
            " [0.76435673]\n",
            " [0.98188186]\n",
            " [1.2611164 ]]\n",
            "Step 200: Loss=0.020210\n",
            "Step 400: Loss=0.075130\n",
            "Step 600: Loss=0.003327\n",
            "Step 800: Loss=0.023082\n",
            "Step 1000: Loss=0.054252\n",
            "Step 1200: Loss=0.013319\n",
            "Step 1400: Loss=0.043618\n",
            "Step 1600: Loss=0.018131\n",
            "Step 1800: Loss=0.084470\n",
            "Step 2000: Loss=0.001207\n",
            "Estimated weights:\n",
            "[[4.0472703]\n",
            " [2.9199054]\n",
            " [1.9787805]\n",
            " [1.0194025]]\n",
            "Step 2200: Loss=0.002373\n",
            "Step 2400: Loss=0.088748\n",
            "Step 2600: Loss=0.002565\n",
            "Step 2800: Loss=0.000068\n",
            "Step 3000: Loss=0.006142\n",
            "Step 3200: Loss=0.003426\n",
            "Step 3400: Loss=0.001752\n",
            "Step 3600: Loss=0.016715\n",
            "Step 3800: Loss=0.013774\n",
            "Step 4000: Loss=0.000079\n",
            "Estimated weights:\n",
            "[[3.9630163 ]\n",
            " [2.9695551 ]\n",
            " [1.9255192 ]\n",
            " [0.98675376]]\n",
            "Step 4200: Loss=0.000119\n",
            "Step 4400: Loss=0.002625\n",
            "Step 4600: Loss=0.000093\n",
            "Step 4800: Loss=0.006856\n",
            "Step 5000: Loss=0.038958\n",
            "Step 5200: Loss=0.064046\n",
            "Step 5400: Loss=0.001451\n",
            "Step 5600: Loss=0.000171\n",
            "Step 5800: Loss=0.015023\n",
            "Step 6000: Loss=0.011663\n",
            "Estimated weights:\n",
            "[[4.1176476]\n",
            " [3.0150716]\n",
            " [1.9400885]\n",
            " [0.9630227]]\n",
            "Step 6200: Loss=0.002027\n",
            "Step 6400: Loss=0.000858\n",
            "Step 6600: Loss=0.002376\n",
            "Step 6800: Loss=0.000523\n",
            "Step 7000: Loss=0.019224\n",
            "Step 7200: Loss=0.004625\n",
            "Step 7400: Loss=0.000274\n",
            "Step 7600: Loss=0.013457\n",
            "Step 7800: Loss=0.017637\n",
            "Step 8000: Loss=0.011067\n",
            "Estimated weights:\n",
            "[[3.9984019]\n",
            " [2.9956398]\n",
            " [1.9255686]\n",
            " [1.0458173]]\n",
            "Step 8200: Loss=0.004608\n",
            "Step 8400: Loss=0.015380\n",
            "Step 8600: Loss=0.045718\n",
            "Step 8800: Loss=0.043947\n",
            "Step 9000: Loss=0.000064\n",
            "Step 9200: Loss=0.016578\n",
            "Step 9400: Loss=0.068597\n",
            "Step 9600: Loss=0.007427\n",
            "Step 9800: Loss=0.002215\n",
            "Final weights at step 9999:\n",
            "[[4.0258517]\n",
            " [2.8983922]\n",
            " [1.9022561]\n",
            " [0.9634182]]\n"
          ],
          "name": "stdout"
        }
      ]
    },
    {
      "metadata": {
        "id": "db07WaJ0v1Fs",
        "colab_type": "text"
      },
      "cell_type": "markdown",
      "source": [
        "# Playing around with the optimiser\n",
        "\n"
      ]
    },
    {
      "metadata": {
        "id": "uDHZJiUGv-X8",
        "colab_type": "code",
        "outputId": "1674e043-c199-4b45-b8f7-ce88f2cb5eed",
        "colab": {
          "base_uri": "https://localhost:8080/",
          "height": 948
        }
      },
      "cell_type": "code",
      "source": [
        "import matplotlib.pyplot as plt\n",
        "import tensorflow as tf\n",
        "import random\n",
        "import numpy as np\n",
        "from IPython import display\n",
        "\n",
        "# get ground-truth data from the \"true\" model \n",
        "n = 100 \n",
        "w = [4, 3, 2, 1]\n",
        "x = np.linspace(-1,1,n)[:,np.newaxis]\n",
        "t = np.matmul(np.power(np.reshape(x,[-1,1]), \n",
        "                       np.linspace(len(w)-1,0,len(w))), w)\n",
        "std_noise = 0.2\n",
        "t_observed = np.reshape(\n",
        "    [t[idx]+random.gauss(0,std_noise) for idx in range(n)],\n",
        "    [-1,1])\n",
        "\n",
        "loss_val = np.array([])\n",
        "\n",
        "# build a new graph\n",
        "ph_1x = tf.placeholder(tf.float32, [1, 1])\n",
        "ph_1t = tf.placeholder(tf.float32, [1, 1])\n",
        "\n",
        "deg = 3\n",
        "node_X = tf.pow(ph_1x, tf.linspace(tf.to_float(deg),0,deg+1))\n",
        "\n",
        "# first declare variables that need optimisation\n",
        "var_w = tf.get_variable('weights', shape=[deg+1,1], \n",
        "                        initializer=tf.random_normal_initializer(0, 1e-3))\n",
        "\n"
      ],
      "execution_count": 29,
      "outputs": [
        {
          "output_type": "error",
          "ename": "ValueError",
          "evalue": "ignored",
          "traceback": [
            "\u001b[0;31m\u001b[0m",
            "\u001b[0;31mValueError\u001b[0mTraceback (most recent call last)",
            "\u001b[0;32m<ipython-input-29-85b805f43a3f>\u001b[0m in \u001b[0;36m<module>\u001b[0;34m()\u001b[0m\n\u001b[1;32m     27\u001b[0m \u001b[0;31m# first declare variables that need optimisation\u001b[0m\u001b[0;34m\u001b[0m\u001b[0;34m\u001b[0m\u001b[0m\n\u001b[1;32m     28\u001b[0m var_w = tf.get_variable('weights', shape=[deg+1,1], \n\u001b[0;32m---> 29\u001b[0;31m                         initializer=tf.random_normal_initializer(0, 1e-3))\n\u001b[0m\u001b[1;32m     30\u001b[0m \u001b[0;34m\u001b[0m\u001b[0m\n",
            "\u001b[0;32m/usr/local/lib/python2.7/dist-packages/tensorflow/python/ops/variable_scope.pyc\u001b[0m in \u001b[0;36mget_variable\u001b[0;34m(name, shape, dtype, initializer, regularizer, trainable, collections, caching_device, partitioner, validate_shape, use_resource, custom_getter, constraint, synchronization, aggregation)\u001b[0m\n\u001b[1;32m   1477\u001b[0m       \u001b[0mconstraint\u001b[0m\u001b[0;34m=\u001b[0m\u001b[0mconstraint\u001b[0m\u001b[0;34m,\u001b[0m\u001b[0;34m\u001b[0m\u001b[0m\n\u001b[1;32m   1478\u001b[0m       \u001b[0msynchronization\u001b[0m\u001b[0;34m=\u001b[0m\u001b[0msynchronization\u001b[0m\u001b[0;34m,\u001b[0m\u001b[0;34m\u001b[0m\u001b[0m\n\u001b[0;32m-> 1479\u001b[0;31m       aggregation=aggregation)\n\u001b[0m\u001b[1;32m   1480\u001b[0m \u001b[0;34m\u001b[0m\u001b[0m\n\u001b[1;32m   1481\u001b[0m \u001b[0;34m\u001b[0m\u001b[0m\n",
            "\u001b[0;32m/usr/local/lib/python2.7/dist-packages/tensorflow/python/ops/variable_scope.pyc\u001b[0m in \u001b[0;36mget_variable\u001b[0;34m(self, var_store, name, shape, dtype, initializer, regularizer, reuse, trainable, collections, caching_device, partitioner, validate_shape, use_resource, custom_getter, constraint, synchronization, aggregation)\u001b[0m\n\u001b[1;32m   1218\u001b[0m           \u001b[0mconstraint\u001b[0m\u001b[0;34m=\u001b[0m\u001b[0mconstraint\u001b[0m\u001b[0;34m,\u001b[0m\u001b[0;34m\u001b[0m\u001b[0m\n\u001b[1;32m   1219\u001b[0m           \u001b[0msynchronization\u001b[0m\u001b[0;34m=\u001b[0m\u001b[0msynchronization\u001b[0m\u001b[0;34m,\u001b[0m\u001b[0;34m\u001b[0m\u001b[0m\n\u001b[0;32m-> 1220\u001b[0;31m           aggregation=aggregation)\n\u001b[0m\u001b[1;32m   1221\u001b[0m \u001b[0;34m\u001b[0m\u001b[0m\n\u001b[1;32m   1222\u001b[0m   def _get_partitioned_variable(self,\n",
            "\u001b[0;32m/usr/local/lib/python2.7/dist-packages/tensorflow/python/ops/variable_scope.pyc\u001b[0m in \u001b[0;36mget_variable\u001b[0;34m(self, name, shape, dtype, initializer, regularizer, reuse, trainable, collections, caching_device, partitioner, validate_shape, use_resource, custom_getter, constraint, synchronization, aggregation)\u001b[0m\n\u001b[1;32m    545\u001b[0m           \u001b[0mconstraint\u001b[0m\u001b[0;34m=\u001b[0m\u001b[0mconstraint\u001b[0m\u001b[0;34m,\u001b[0m\u001b[0;34m\u001b[0m\u001b[0m\n\u001b[1;32m    546\u001b[0m           \u001b[0msynchronization\u001b[0m\u001b[0;34m=\u001b[0m\u001b[0msynchronization\u001b[0m\u001b[0;34m,\u001b[0m\u001b[0;34m\u001b[0m\u001b[0m\n\u001b[0;32m--> 547\u001b[0;31m           aggregation=aggregation)\n\u001b[0m\u001b[1;32m    548\u001b[0m \u001b[0;34m\u001b[0m\u001b[0m\n\u001b[1;32m    549\u001b[0m   def _get_partitioned_variable(self,\n",
            "\u001b[0;32m/usr/local/lib/python2.7/dist-packages/tensorflow/python/ops/variable_scope.pyc\u001b[0m in \u001b[0;36m_true_getter\u001b[0;34m(name, shape, dtype, initializer, regularizer, reuse, trainable, collections, caching_device, partitioner, validate_shape, use_resource, constraint, synchronization, aggregation)\u001b[0m\n\u001b[1;32m    497\u001b[0m           \u001b[0mconstraint\u001b[0m\u001b[0;34m=\u001b[0m\u001b[0mconstraint\u001b[0m\u001b[0;34m,\u001b[0m\u001b[0;34m\u001b[0m\u001b[0m\n\u001b[1;32m    498\u001b[0m           \u001b[0msynchronization\u001b[0m\u001b[0;34m=\u001b[0m\u001b[0msynchronization\u001b[0m\u001b[0;34m,\u001b[0m\u001b[0;34m\u001b[0m\u001b[0m\n\u001b[0;32m--> 499\u001b[0;31m           aggregation=aggregation)\n\u001b[0m\u001b[1;32m    500\u001b[0m \u001b[0;34m\u001b[0m\u001b[0m\n\u001b[1;32m    501\u001b[0m     \u001b[0;31m# Set trainable value based on synchronization value.\u001b[0m\u001b[0;34m\u001b[0m\u001b[0;34m\u001b[0m\u001b[0m\n",
            "\u001b[0;32m/usr/local/lib/python2.7/dist-packages/tensorflow/python/ops/variable_scope.pyc\u001b[0m in \u001b[0;36m_get_single_variable\u001b[0;34m(self, name, shape, dtype, initializer, regularizer, partition_info, reuse, trainable, collections, caching_device, validate_shape, use_resource, constraint, synchronization, aggregation)\u001b[0m\n\u001b[1;32m    846\u001b[0m         \u001b[0mtb\u001b[0m \u001b[0;34m=\u001b[0m \u001b[0;34m[\u001b[0m\u001b[0mx\u001b[0m \u001b[0;32mfor\u001b[0m \u001b[0mx\u001b[0m \u001b[0;32min\u001b[0m \u001b[0mtb\u001b[0m \u001b[0;32mif\u001b[0m \u001b[0;34m\"tensorflow/python\"\u001b[0m \u001b[0;32mnot\u001b[0m \u001b[0;32min\u001b[0m \u001b[0mx\u001b[0m\u001b[0;34m[\u001b[0m\u001b[0;36m0\u001b[0m\u001b[0;34m]\u001b[0m\u001b[0;34m]\u001b[0m\u001b[0;34m[\u001b[0m\u001b[0;34m:\u001b[0m\u001b[0;36m3\u001b[0m\u001b[0;34m]\u001b[0m\u001b[0;34m\u001b[0m\u001b[0m\n\u001b[1;32m    847\u001b[0m         raise ValueError(\"%s Originally defined at:\\n\\n%s\" % (err_msg, \"\".join(\n\u001b[0;32m--> 848\u001b[0;31m             traceback.format_list(tb))))\n\u001b[0m\u001b[1;32m    849\u001b[0m       \u001b[0mfound_var\u001b[0m \u001b[0;34m=\u001b[0m \u001b[0mself\u001b[0m\u001b[0;34m.\u001b[0m\u001b[0m_vars\u001b[0m\u001b[0;34m[\u001b[0m\u001b[0mname\u001b[0m\u001b[0;34m]\u001b[0m\u001b[0;34m\u001b[0m\u001b[0m\n\u001b[1;32m    850\u001b[0m       \u001b[0;32mif\u001b[0m \u001b[0;32mnot\u001b[0m \u001b[0mshape\u001b[0m\u001b[0;34m.\u001b[0m\u001b[0mis_compatible_with\u001b[0m\u001b[0;34m(\u001b[0m\u001b[0mfound_var\u001b[0m\u001b[0;34m.\u001b[0m\u001b[0mget_shape\u001b[0m\u001b[0;34m(\u001b[0m\u001b[0;34m)\u001b[0m\u001b[0;34m)\u001b[0m\u001b[0;34m:\u001b[0m\u001b[0;34m\u001b[0m\u001b[0m\n",
            "\u001b[0;31mValueError\u001b[0m: Variable weights already exists, disallowed. Did you mean to set reuse=True or reuse=tf.AUTO_REUSE in VarScope? Originally defined at:\n\n  File \"<ipython-input-4-654fbbb476b8>\", line 9, in <module>\n    initializer=tf.random_normal_initializer(0, 1e-3))\n  File \"/usr/local/lib/python2.7/dist-packages/IPython/core/interactiveshell.py\", line 2882, in run_code\n    exec(code_obj, self.user_global_ns, self.user_ns)\n  File \"/usr/local/lib/python2.7/dist-packages/IPython/core/interactiveshell.py\", line 2822, in run_ast_nodes\n    if self.run_code(code, result):\n"
          ]
        }
      ]
    },
    {
      "metadata": {
        "id": "vjJqISh8_lcK",
        "colab_type": "code",
        "colab": {
          "base_uri": "https://localhost:8080/",
          "height": 1377
        },
        "outputId": "cfe173de-ae6f-439f-e4ff-9fd81fe0fa11"
      },
      "cell_type": "code",
      "source": [
        "# complete the computation graph with SGD\n",
        "node_1t = tf.matmul(node_X, var_w)\n",
        "# define a square loss function\n",
        "loss = tf.reduce_mean(tf.square(node_1t-ph_1t))\n",
        "# buiding a train-op to minimise the loss\n",
        "train_op = tf.train.GradientDescentOptimizer(learning_rate=1e-1).minimize(loss)\n",
        "\n",
        "# launch a session\n",
        "sess = tf.Session()  \n",
        "sess.run(tf.global_variables_initializer())  # initialise all the variables\n",
        "\n",
        "# iteration to update variables with backprop gradients\n",
        "total_iter = int(1e4)\n",
        "indices_train = [i for i in range(n)]\n",
        "for step in range(total_iter):\n",
        "    \n",
        "    idx = step % n\n",
        "    if idx == 0:  # shuffle every epoch\n",
        "        random.shuffle(indices_train)\n",
        "    \n",
        "    # single data point feed\n",
        "    singleDataFeed = {\n",
        "        ph_1x:x[indices_train[idx],np.newaxis], \n",
        "        ph_1t:t_observed[indices_train[idx],np.newaxis] }\n",
        "    \n",
        "    \n",
        "    # update the variables\n",
        "    sess.run(train_op, feed_dict=singleDataFeed)\n",
        "    \n",
        "    if (step % 1) == 0:\n",
        "        loss_train = sess.run(loss, feed_dict=singleDataFeed)\n",
        "        loss_val = np.append(loss_val,loss_train)\n",
        "#         print(loss_train,loss_val)\n",
        "#         display.clear_output()\n",
        "#         plt.plot(loss_val)\n",
        "#         plt.show()\n",
        "#         plt.draw()\n",
        "    \n",
        "    # print training information\n",
        "    if (step % 200) == 0:\n",
        "        loss_train = sess.run(loss, feed_dict=singleDataFeed)\n",
        "        print('Step %d: Loss=%f' % (step, loss_train))\n",
        "    if (step % 2000) == 0:\n",
        "        w_sgd = sess.run(var_w)\n",
        "        print('Estimated weights:')\n",
        "        print(w_sgd)\n",
        "\n",
        "w_sgd = sess.run(var_w)\n",
        "print('Final weights at step %d:' % step)\n",
        "print(w_sgd)\n",
        "sess.close()"
      ],
      "execution_count": 35,
      "outputs": [
        {
          "output_type": "stream",
          "text": [
            "Step 0: Loss=0.000524\n",
            "Estimated weights:\n",
            "[[-0.00015834]\n",
            " [ 0.0016035 ]\n",
            " [-0.00189796]\n",
            " [ 0.00579561]]\n",
            "Step 200: Loss=0.002952\n",
            "Step 400: Loss=0.017667\n",
            "Step 600: Loss=0.005801\n",
            "Step 800: Loss=0.105830\n",
            "Step 1000: Loss=0.004777\n",
            "Step 1200: Loss=0.004457\n",
            "Step 1400: Loss=0.000233\n",
            "Step 1600: Loss=0.000001\n",
            "Step 1800: Loss=0.033103\n",
            "Step 2000: Loss=0.004255\n",
            "Estimated weights:\n",
            "[[3.9869955]\n",
            " [3.0759559]\n",
            " [2.0708253]\n",
            " [1.0543575]]\n",
            "Step 2200: Loss=0.088015\n",
            "Step 2400: Loss=0.000956\n",
            "Step 2600: Loss=0.000161\n",
            "Step 2800: Loss=0.006362\n",
            "Step 3000: Loss=0.007608\n",
            "Step 3200: Loss=0.005370\n",
            "Step 3400: Loss=0.019030\n",
            "Step 3600: Loss=0.047488\n",
            "Step 3800: Loss=0.080505\n",
            "Step 4000: Loss=0.013774\n",
            "Estimated weights:\n",
            "[[3.9725544]\n",
            " [2.9878843]\n",
            " [2.0620942]\n",
            " [0.9932699]]\n",
            "Step 4200: Loss=0.000793\n",
            "Step 4400: Loss=0.031846\n",
            "Step 4600: Loss=0.021458\n",
            "Step 4800: Loss=0.001150\n",
            "Step 5000: Loss=0.003445\n",
            "Step 5200: Loss=0.000197\n",
            "Step 5400: Loss=0.009190\n",
            "Step 5600: Loss=0.002325\n",
            "Step 5800: Loss=0.029196\n",
            "Step 6000: Loss=0.000763\n",
            "Estimated weights:\n",
            "[[3.9874277]\n",
            " [2.982724 ]\n",
            " [2.0057433]\n",
            " [1.0792596]]\n",
            "Step 6200: Loss=0.019895\n",
            "Step 6400: Loss=0.003949\n",
            "Step 6600: Loss=0.004529\n",
            "Step 6800: Loss=0.001167\n",
            "Step 7000: Loss=0.000916\n",
            "Step 7200: Loss=0.000719\n",
            "Step 7400: Loss=0.019790\n",
            "Step 7600: Loss=0.000341\n",
            "Step 7800: Loss=0.006685\n",
            "Step 8000: Loss=0.008150\n",
            "Estimated weights:\n",
            "[[3.9365242 ]\n",
            " [2.8992615 ]\n",
            " [2.0389428 ]\n",
            " [0.92279595]]\n",
            "Step 8200: Loss=0.112535\n",
            "Step 8400: Loss=0.023947\n",
            "Step 8600: Loss=0.069501\n",
            "Step 8800: Loss=0.001768\n",
            "Step 9000: Loss=0.031366\n",
            "Step 9200: Loss=0.124278\n",
            "Step 9400: Loss=0.000728\n",
            "Step 9600: Loss=0.002482\n",
            "Step 9800: Loss=0.020021\n",
            "Final weights at step 9999:\n",
            "[[4.026138 ]\n",
            " [3.004672 ]\n",
            " [2.0633879]\n",
            " [1.0109589]]\n"
          ],
          "name": "stdout"
        }
      ]
    },
    {
      "metadata": {
        "id": "bccn8h7eDI_x",
        "colab_type": "code",
        "colab": {
          "base_uri": "https://localhost:8080/",
          "height": 381
        },
        "outputId": "f96fa9dc-6dc0-47e5-b46a-d979929cf6ad"
      },
      "cell_type": "code",
      "source": [
        "plt.plot(loss_val)\n",
        "plt.yscale('log')\n",
        "loss_val"
      ],
      "execution_count": 37,
      "outputs": [
        {
          "output_type": "execute_result",
          "data": {
            "text/plain": [
              "array([3.00540179e-01, 1.60094583e+00, 1.59197852e-01, ...,\n",
              "       1.72654241e-02, 4.12546331e-04, 3.36744054e-03])"
            ]
          },
          "metadata": {
            "tags": []
          },
          "execution_count": 37
        },
        {
          "output_type": "display_data",
          "data": {
            "image/png": "[encoded data removed]",
            "text/plain": [
              "<Figure size 576x396 with 1 Axes>"
            ]
          },
          "metadata": {
            "tags": []
          }
        }
      ]
    },
    {
      "metadata": {
        "id": "bdZPkiAZHAhk",
        "colab_type": "text"
      },
      "cell_type": "markdown",
      "source": [
        "# Playing around with more than one point at a time"
      ]
    },
    {
      "metadata": {
        "id": "qZt4IKivG3Kb",
        "colab_type": "code",
        "colab": {
          "base_uri": "https://localhost:8080/",
          "height": 119
        },
        "outputId": "7b43760a-e125-4b8d-b920-b657b959b4a0"
      },
      "cell_type": "code",
      "source": [
        "import numpy as np\n",
        "import tensorflow as tf\n",
        "import random\n",
        "\n",
        "# get ground-truth data from the \"true\" model \n",
        "n = 100 \n",
        "w = [4, 3, 2, 1]\n",
        "x = np.linspace(-1,1,n)[:,np.newaxis]\n",
        "t = np.matmul(np.power(np.reshape(x,[-1,1]), \n",
        "                       np.linspace(len(w)-1,0,len(w))), w)\n",
        "std_noise = 0.2\n",
        "t_observed = np.reshape(\n",
        "    [t[idx]+random.gauss(0,std_noise) for idx in range(n)],\n",
        "    [-1,1])\n",
        "\n",
        "loss_val = np.array([])\n",
        "\n",
        "# build a new graph\n",
        "ph_nx = tf.placeholder(tf.float32, [n, 1])\n",
        "ph_nt = tf.placeholder(tf.float32, [n, 1])\n",
        "\n",
        "deg = 3\n",
        "node_nX = tf.pow(ph_nx, tf.linspace(tf.to_float(deg),0,deg+1))\n",
        "\n",
        "# first declare variables that need optimisation\n",
        "var_w_n = tf.get_variable('weights', shape=[deg+1,1], \n",
        "                        initializer=tf.random_normal_initializer(0, 1e-3))"
      ],
      "execution_count": 4,
      "outputs": [
        {
          "output_type": "stream",
          "text": [
            "WARNING:tensorflow:From <ipython-input-4-6df2fa397266>:23: to_float (from tensorflow.python.ops.math_ops) is deprecated and will be removed in a future version.\n",
            "Instructions for updating:\n",
            "Use tf.cast instead.\n",
            "WARNING:tensorflow:From /usr/local/lib/python2.7/dist-packages/tensorflow/python/framework/op_def_library.py:263: colocate_with (from tensorflow.python.framework.ops) is deprecated and will be removed in a future version.\n",
            "Instructions for updating:\n",
            "Colocations handled automatically by placer.\n"
          ],
          "name": "stdout"
        }
      ]
    },
    {
      "metadata": {
        "id": "qffv2oFzGe0C",
        "colab_type": "code",
        "colab": {
          "base_uri": "https://localhost:8080/",
          "height": 1377
        },
        "outputId": "0566fb33-da84-42d4-8ad1-b00be7cf2d9c"
      },
      "cell_type": "code",
      "source": [
        "# complete the computation graph with SGD\n",
        "node_nt = tf.matmul(node_nX, var_w_n)\n",
        "# define a square loss function\n",
        "loss = tf.reduce_mean(tf.square(node_nt-ph_nt))\n",
        "# buiding a train-op to minimise the loss\n",
        "train_op = tf.train.GradientDescentOptimizer(learning_rate=1e-1).minimize(loss)\n",
        "\n",
        "\n",
        "# launch a session\n",
        "sess = tf.Session()  \n",
        "sess.run(tf.global_variables_initializer())  # initialise all the variables\n",
        "\n",
        "# iteration to update variables with backprop gradients\n",
        "total_iter = int(1e4)\n",
        "indices_train = [i for i in range(n)]\n",
        "for step in range(total_iter):\n",
        "    \n",
        "    idx = step % n\n",
        "    if idx == 0:  # shuffle every epoch\n",
        "        random.shuffle(indices_train)\n",
        "    \n",
        "    # single data point feed\n",
        "    nDataFeed = {\n",
        "        ph_nx:x[indices_train], \n",
        "        ph_nt:t_observed[indices_train] }\n",
        "    \n",
        "    \n",
        "    # update the variables\n",
        "    sess.run(train_op, feed_dict=nDataFeed)\n",
        "    \n",
        "    if (step % 1) == 0:\n",
        "        loss_train = sess.run(loss, feed_dict=nDataFeed)\n",
        "        loss_val = np.append(loss_val,loss_train)\n",
        "#         print(loss_train,loss_val)\n",
        "#         display.clear_output()\n",
        "#         plt.plot(loss_val)\n",
        "#         plt.show()\n",
        "#         plt.draw()\n",
        "    \n",
        "    # print training information\n",
        "    if (step % 200) == 0:\n",
        "        loss_train = sess.run(loss, feed_dict=nDataFeed)\n",
        "        print('Step %d: Loss=%f' % (step, loss_train))\n",
        "    if (step % 2000) == 0:\n",
        "        w_sgd = sess.run(var_w_n)\n",
        "        print('Estimated weights:')\n",
        "        print(w_sgd)\n",
        "\n",
        "w_sgd = sess.run(var_w_n)\n",
        "print('Final weights at step %d:' % step)\n",
        "print(w_sgd)\n",
        "sess.close()"
      ],
      "execution_count": 17,
      "outputs": [
        {
          "output_type": "stream",
          "text": [
            "Step 0: Loss=8.957877\n",
            "Estimated weights:\n",
            "[[0.20210573]\n",
            " [0.19630885]\n",
            " [0.29808432]\n",
            " [0.41059282]]\n",
            "Step 200: Loss=0.076045\n",
            "Step 400: Loss=0.057459\n",
            "Step 600: Loss=0.053000\n",
            "Step 800: Loss=0.051892\n",
            "Step 1000: Loss=0.051618\n",
            "Step 1200: Loss=0.051549\n",
            "Step 1400: Loss=0.051532\n",
            "Step 1600: Loss=0.051528\n",
            "Step 1800: Loss=0.051527\n",
            "Step 2000: Loss=0.051527\n",
            "Estimated weights:\n",
            "[[4.043354 ]\n",
            " [2.9940155]\n",
            " [1.917656 ]\n",
            " [1.0286484]]\n",
            "Step 2200: Loss=0.051527\n",
            "Step 2400: Loss=0.051527\n",
            "Step 2600: Loss=0.051527\n",
            "Step 2800: Loss=0.051527\n",
            "Step 3000: Loss=0.051527\n",
            "Step 3200: Loss=0.051527\n",
            "Step 3400: Loss=0.051527\n",
            "Step 3600: Loss=0.051527\n",
            "Step 3800: Loss=0.051527\n",
            "Step 4000: Loss=0.051527\n",
            "Estimated weights:\n",
            "[[4.045168 ]\n",
            " [2.9940155]\n",
            " [1.9164847]\n",
            " [1.0286484]]\n",
            "Step 4200: Loss=0.051527\n",
            "Step 4400: Loss=0.051527\n",
            "Step 4600: Loss=0.051527\n",
            "Step 4800: Loss=0.051527\n",
            "Step 5000: Loss=0.051527\n",
            "Step 5200: Loss=0.051527\n",
            "Step 5400: Loss=0.051527\n",
            "Step 5600: Loss=0.051527\n",
            "Step 5800: Loss=0.051527\n",
            "Step 6000: Loss=0.051527\n",
            "Estimated weights:\n",
            "[[4.045168 ]\n",
            " [2.9940155]\n",
            " [1.9164847]\n",
            " [1.0286484]]\n",
            "Step 6200: Loss=0.051527\n",
            "Step 6400: Loss=0.051527\n",
            "Step 6600: Loss=0.051527\n",
            "Step 6800: Loss=0.051527\n",
            "Step 7000: Loss=0.051527\n",
            "Step 7200: Loss=0.051527\n",
            "Step 7400: Loss=0.051527\n",
            "Step 7600: Loss=0.051527\n",
            "Step 7800: Loss=0.051527\n",
            "Step 8000: Loss=0.051527\n",
            "Estimated weights:\n",
            "[[4.045168 ]\n",
            " [2.9940155]\n",
            " [1.9164847]\n",
            " [1.0286484]]\n",
            "Step 8200: Loss=0.051527\n",
            "Step 8400: Loss=0.051527\n",
            "Step 8600: Loss=0.051527\n",
            "Step 8800: Loss=0.051527\n",
            "Step 9000: Loss=0.051527\n",
            "Step 9200: Loss=0.051527\n",
            "Step 9400: Loss=0.051527\n",
            "Step 9600: Loss=0.051527\n",
            "Step 9800: Loss=0.051527\n",
            "Final weights at step 9999:\n",
            "[[4.045168 ]\n",
            " [2.9940155]\n",
            " [1.9164847]\n",
            " [1.0286484]]\n"
          ],
          "name": "stdout"
        }
      ]
    },
    {
      "metadata": {
        "id": "gC8pbyVmJ15c",
        "colab_type": "code",
        "colab": {
          "base_uri": "https://localhost:8080/",
          "height": 687
        },
        "outputId": "e115d845-025d-441f-a709-69d3de001145"
      },
      "cell_type": "code",
      "source": [
        "import matplotlib.pyplot as plt\n",
        "\n",
        "plt.plot(loss_val[::])\n",
        "plt.yscale('log')\n",
        "loss_val[:100:]"
      ],
      "execution_count": 29,
      "outputs": [
        {
          "output_type": "execute_result",
          "data": {
            "text/plain": [
              "array([8.96591282, 8.96162033, 8.95787716, 6.84207344, 5.34344864,\n",
              "       4.25572634, 3.44780445, 2.8350184 , 2.36165905, 1.99028122,\n",
              "       1.69512713, 1.4580456 , 1.26593745, 1.10913396, 0.98035133,\n",
              "       0.87400317, 0.78574198, 0.71214247, 0.65047973, 0.59856939,\n",
              "       0.55465031, 0.51729625, 0.48534772, 0.45786023, 0.4340623 ,\n",
              "       0.41332304, 0.39512566, 0.37904626, 0.36473691, 0.35191199,\n",
              "       0.34033638, 0.3298164 , 0.32019246, 0.31133288, 0.30312881,\n",
              "       0.29549024, 0.28834236, 0.28162313, 0.27528092, 0.26927242,\n",
              "       0.26356152, 0.25811774, 0.25291553, 0.247933  , 0.24315184,\n",
              "       0.23855606, 0.23413204, 0.22986801, 0.22575372, 0.22178009,\n",
              "       0.21793924, 0.21422401, 0.21062812, 0.20714588, 0.20377208,\n",
              "       0.20050205, 0.19733131, 0.19425602, 0.19127233, 0.18837683,\n",
              "       0.18556617, 0.18283735, 0.18018752, 0.17761385, 0.17511368,\n",
              "       0.17268459, 0.17032419, 0.1680302 , 0.16580045, 0.1636328 ,\n",
              "       0.16152526, 0.15947588, 0.15748288, 0.15554437, 0.15365858,\n",
              "       0.15182397, 0.15003884, 0.14830166, 0.1466109 , 0.14496519,\n",
              "       0.14336301, 0.14180312, 0.14028408, 0.13880469, 0.13736373,\n",
              "       0.13596001, 0.13459234, 0.13325971, 0.13196091, 0.13069502,\n",
              "       0.12946093, 0.12825775, 0.12708448, 0.12594028, 0.12482418,\n",
              "       0.12373535, 0.12267306, 0.12163635, 0.12062453, 0.11963688])"
            ]
          },
          "metadata": {
            "tags": []
          },
          "execution_count": 29
        },
        {
          "output_type": "display_data",
          "data": {
            "image/png": "[encoded data removed]",
            "text/plain": [
              "<Figure size 576x396 with 1 Axes>"
            ]
          },
          "metadata": {
            "tags": []
          }
        }
      ]
    },
    {
      "metadata": {
        "colab_type": "text",
        "id": "FxVSxLyeVdXb"
      },
      "cell_type": "markdown",
      "source": [
        "## Questions\n",
        "- What happens to the convergence when you try other optimisation hyperparameters, such as a different optimiser, learning rate and number of iterations? You could try plotting the loss as a function of step for each hypermarater. \n",
        "- Try adding regularisers and different loss functions. How does this affect the performance?\n",
        "- Would batch gradient descent or minibatch gradient descent improve the optimisation?\n",
        "- Would higher-degree models be more prone to overfitting and why?\n"
      ]
    },
    {
      "metadata": {
        "id": "7BsWVetqrUSD",
        "colab_type": "code",
        "colab": {}
      },
      "cell_type": "code",
      "source": [
        ""
      ],
      "execution_count": 0,
      "outputs": []
    }
  ]
}