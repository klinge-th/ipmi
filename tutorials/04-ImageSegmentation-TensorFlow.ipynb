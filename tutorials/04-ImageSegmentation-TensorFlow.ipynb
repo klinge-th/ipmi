{
  "nbformat": 4,
  "nbformat_minor": 0,
  "metadata": {
    "colab": {
      "name": "04-ImageSegmentation-TensorFlow.ipynb",
      "version": "0.3.2",
      "provenance": [],
      "toc_visible": true
    },
    "kernelspec": {
      "name": "python3",
      "display_name": "Python 3"
    },
    "accelerator": "GPU"
  },
  "cells": [
    {
      "metadata": {
        "colab_type": "text",
        "id": "uuS23i_K1N82"
      },
      "cell_type": "markdown",
      "source": [
        "# 4 Convolutional Neural Networks - Medical Image Segmentation (TensorFlow)\n",
        "\n",
        "This tutorial is solving a real-world problem in segmenting anatomical organs in 3D medical images, an argubly most successful area deep-learning has been applied to."
      ]
    },
    {
      "metadata": {
        "colab_type": "text",
        "id": "drqihy6U1N86"
      },
      "cell_type": "markdown",
      "source": [
        "## 4.1 Image and Label Data\n",
        "\n",
        "The images and labels (segmentations) in [PROMISE12][promise12] are used here. Download a copy of resampeld data by cloning the following repository:\n",
        "\n",
        "\n",
        "[promise12]: https://promise12.grand-challenge.org/\n"
      ]
    },
    {
      "metadata": {
        "colab_type": "code",
        "id": "JDeVJdQv1N87",
        "outputId": "c8a533ce-d136-4e5d-82b8-57c2a780a794",
        "colab": {
          "base_uri": "https://localhost:8080/",
          "height": 136
        }
      },
      "cell_type": "code",
      "source": [
        "#!git clone https://github.com/YipengHu/promise12.git\n",
        "\n",
        "path_to_data = \"./promise12\""
      ],
      "execution_count": 1,
      "outputs": [
        {
          "output_type": "stream",
          "text": [
            "Cloning into 'promise12'...\n",
            "remote: Enumerating objects: 132, done.\u001b[K\n",
            "remote: Counting objects: 100% (132/132), done.\u001b[K\n",
            "remote: Compressing objects: 100% (86/86), done.\u001b[K\n",
            "remote: Total 132 (delta 46), reused 132 (delta 46), pack-reused 0\u001b[K\n",
            "Receiving objects: 100% (132/132), 55.30 MiB | 20.83 MiB/s, done.\n",
            "Resolving deltas: 100% (46/46), done.\n"
          ],
          "name": "stdout"
        }
      ]
    },
    {
      "metadata": {
        "colab_type": "text",
        "id": "UCtIXwCf1N9B"
      },
      "cell_type": "markdown",
      "source": [
        "The *path_to_data* shoud contain all the data needed. If _git_ is not available as a system command (e.g. on Windows), the same data can also be downloaded here:\n",
        "\n",
        "[Download Data][data_link]. \n",
        "\n",
        "In this case, the *path_to_data* needs to be specified to where the data are unzipped. For those who are interested, the script [*script_promise12*][script_promise12.py] has the code that resampled the original data. \n",
        "\n",
        "\n",
        "[data_link]: https://github.com/YipengHu/promise12/archive/data.zip\n",
        "[script_promise12.py]: ./data/script_promise12.py"
      ]
    },
    {
      "metadata": {
        "colab_type": "text",
        "id": "Tk1DlgVW1N9C"
      },
      "cell_type": "markdown",
      "source": [
        "Now, check a few images and labels in the folder:"
      ]
    },
    {
      "metadata": {
        "colab_type": "code",
        "id": "OL8NWSo81N9D",
        "outputId": "96b6983b-7165-4b43-e02f-1c967fc6535c",
        "colab": {
          "base_uri": "https://localhost:8080/",
          "height": 787
        }
      },
      "cell_type": "code",
      "source": [
        "import numpy as np\n",
        "import os\n",
        "import matplotlib.pyplot as plt\n",
        "%matplotlib inline\n",
        "\n",
        "\n",
        "# load a training image-label pair\n",
        "idx = 49\n",
        "image = np.load(os.path.join(path_to_data, \"image_train%02d.npy\" % idx))\n",
        "label = np.load(os.path.join(path_to_data, \"label_train%02d.npy\" % idx))\n",
        "size_data = list(image.shape)\n",
        "\n",
        "# plot the pair\n",
        "idx_slice = 16\n",
        "plt.figure()\n",
        "plt.imshow(image[idx_slice,:,:], cmap='gray')\n",
        "plt.figure()\n",
        "plt.imshow(label[idx_slice,:,:], cmap='gray')\n",
        "\n",
        "# and check to see if the mask is actually segmenting the ROI\n",
        "plt.figure()\n",
        "plt.imshow(image[idx_slice,:,:] * label[idx_slice,:,:], cmap='gray')"
      ],
      "execution_count": 2,
      "outputs": [
        {
          "output_type": "execute_result",
          "data": {
            "text/plain": [
              "<matplotlib.image.AxesImage at 0x7fd486bd7cc0>"
            ]
          },
          "metadata": {
            "tags": []
          },
          "execution_count": 2
        },
        {
          "output_type": "display_data",
          "data": {
            "image/png": "[encoded data removed]",
            "text/plain": [
              "<Figure size 432x288 with 1 Axes>"
            ]
          },
          "metadata": {
            "tags": []
          }
        },
        {
          "output_type": "display_data",
          "data": {
            "image/png": "[encoded data removed]",
            "text/plain": [
              "<Figure size 432x288 with 1 Axes>"
            ]
          },
          "metadata": {
            "tags": []
          }
        },
        {
          "output_type": "display_data",
          "data": {
            "image/png": "[encoded data removed]",
            "text/plain": [
              "<Figure size 432x288 with 1 Axes>"
            ]
          },
          "metadata": {
            "tags": []
          }
        }
      ]
    },
    {
      "metadata": {
        "colab_type": "text",
        "id": "90wHolpg1N9F"
      },
      "cell_type": "markdown",
      "source": [
        "### Data feeding\n",
        "For convinience, a very simple class for data feeding is loaded:"
      ]
    },
    {
      "metadata": {
        "colab_type": "code",
        "id": "74K3hhn_1N9I",
        "colab": {}
      },
      "cell_type": "code",
      "source": [
        "# a simple npy image reading class\n",
        "class DataReader:\n",
        "\n",
        "    def __init__(self, folder_name):\n",
        "        self.folder_name = folder_name\n",
        "\n",
        "    def load_images_train(self, indices_mb):\n",
        "        return self.load_npy_files([\"image_train%02d.npy\" % idx for idx in indices_mb])\n",
        "\n",
        "    def load_images_test(self, indices_mb):\n",
        "        return self.load_npy_files([\"image_test%02d.npy\" % idx for idx in indices_mb])\n",
        "\n",
        "    def load_labels_train(self, indices_mb):\n",
        "        return self.load_npy_files([\"label_train%02d.npy\" % idx for idx in indices_mb])\n",
        "\n",
        "    def load_npy_files(self, file_names):\n",
        "        images = [np.float32(np.load(os.path.join(self.folder_name, fn))) for fn in file_names]\n",
        "        return np.expand_dims(np.stack(images, axis=0), axis=4)"
      ],
      "execution_count": 0,
      "outputs": []
    },
    {
      "metadata": {
        "colab_type": "text",
        "id": "SvLNCuem1N9M"
      },
      "cell_type": "markdown",
      "source": [
        "## 4.2 Computation Graph for a Fully Convolutional Neural Network\n",
        "The following script is not optimised for performace or best coding practice. This illustrates a basic working workflow to do image segmentation."
      ]
    },
    {
      "metadata": {
        "colab_type": "text",
        "id": "ynuLKw1j1N9N"
      },
      "cell_type": "markdown",
      "source": [
        "### 4.2.1 Placeholders\n",
        "Again, this is a special feature in TensorFlow to facilitate runtime data feeding. This will become clear later."
      ]
    },
    {
      "metadata": {
        "id": "GnkJGhDehFz-",
        "colab_type": "code",
        "colab": {
          "base_uri": "https://localhost:8080/",
          "height": 17
        },
        "outputId": "2430f4aa-a18d-4ab4-8463-9fec42998a7c"
      },
      "cell_type": "code",
      "source": [
        "import tensorflow as tf\n",
        "\n",
        "tf.ConfigProto()"
      ],
      "execution_count": 4,
      "outputs": [
        {
          "output_type": "execute_result",
          "data": {
            "text/plain": [
              ""
            ]
          },
          "metadata": {
            "tags": []
          },
          "execution_count": 4
        }
      ]
    },
    {
      "metadata": {
        "colab_type": "code",
        "id": "CL5ITvGq1N9O",
        "outputId": "7e68659f-2525-439c-a2cf-bca364b3a072",
        "colab": {
          "base_uri": "https://localhost:8080/",
          "height": 34
        }
      },
      "cell_type": "code",
      "source": [
        "import tensorflow as tf\n",
        "\n",
        "\n",
        "# --- First define placeholders with fixed sizes\n",
        "size_minibatch = 4  # number of images as one input minibatch\n",
        "# only the gray-scale intensity values as one-channel feature, hence [1]:\n",
        "ph_image = tf.placeholder(tf.float32, [size_minibatch]+size_data+[1])\n",
        "ph_label = tf.placeholder(tf.float32, [size_minibatch]+size_data+[1])\n",
        "\n",
        "# ph_image is 4 (4 images) x 32 (slices) x 128 x 128 (voxel per slice) x 1 (single gray-scale channel)\n",
        "print(ph_image)"
      ],
      "execution_count": 5,
      "outputs": [
        {
          "output_type": "stream",
          "text": [
            "Tensor(\"Placeholder:0\", shape=(4, 32, 128, 128, 1), dtype=float32)\n"
          ],
          "name": "stdout"
        }
      ]
    },
    {
      "metadata": {
        "colab_type": "text",
        "id": "FEIvhfTp1N9R"
      },
      "cell_type": "markdown",
      "source": [
        "### 4.2.2 Encoder-decoder network\n",
        "This is a simplified imlementatin of an encoder-decoder network for image segmentation, similar to [U-Net][unet_paper].\n",
        "\n",
        "[unet_paper]: https://arxiv.org/abs/1505.04597\n",
        "\n",
        "We first halve image size so this can be reasonably tested, e.g. on a CPU. and usually, there is a data pre-processing (augmentation) layer in this place:"
      ]
    },
    {
      "metadata": {
        "colab_type": "code",
        "id": "nEFpWmD51N9S",
        "outputId": "8e9edfed-3ead-4f8b-f4cd-cfe3e5baee20",
        "colab": {
          "base_uri": "https://localhost:8080/",
          "height": 34
        }
      },
      "cell_type": "code",
      "source": [
        "input_image = ph_image[:, ::2, ::2, ::2, :] # only choose every second slice and voxel/pixel\n",
        "input_label = ph_label[:, ::2, ::2, ::2, :]\n",
        "input_image"
      ],
      "execution_count": 6,
      "outputs": [
        {
          "output_type": "execute_result",
          "data": {
            "text/plain": [
              "<tf.Tensor 'strided_slice:0' shape=(4, 16, 64, 64, 1) dtype=float32>"
            ]
          },
          "metadata": {
            "tags": []
          },
          "execution_count": 6
        }
      ]
    },
    {
      "metadata": {
        "colab_type": "text",
        "id": "a43mp9Kc1N9W"
      },
      "cell_type": "markdown",
      "source": [
        "#### Step 1 - declare variables for storing convolution kernel \"weights\" to optimise"
      ]
    },
    {
      "metadata": {
        "colab_type": "code",
        "id": "Af9Kd3ba1N9W",
        "outputId": "5f4f84f4-e4e7-4dce-fc2a-29d28ee26195",
        "colab": {
          "base_uri": "https://localhost:8080/",
          "height": 224
        }
      },
      "cell_type": "code",
      "source": [
        "k_conv = [3, 3, 3]  # convolution kernel size\n",
        "nc1 = 8  # number of feature maps after the convolution layer, i.e. channels\n",
        "W1 = tf.get_variable(\"W1\", shape=k_conv+[1, nc1], initializer=tf.contrib.layers.xavier_initializer())\n",
        "\n",
        "W1"
      ],
      "execution_count": 7,
      "outputs": [
        {
          "output_type": "stream",
          "text": [
            "\n",
            "WARNING: The TensorFlow contrib module will not be included in TensorFlow 2.0.\n",
            "For more information, please see:\n",
            "  * https://github.com/tensorflow/community/blob/master/rfcs/20180907-contrib-sunset.md\n",
            "  * https://github.com/tensorflow/addons\n",
            "If you depend on functionality not listed there, please file an issue.\n",
            "\n",
            "WARNING:tensorflow:From /usr/local/lib/python3.6/dist-packages/tensorflow/python/framework/op_def_library.py:263: colocate_with (from tensorflow.python.framework.ops) is deprecated and will be removed in a future version.\n",
            "Instructions for updating:\n",
            "Colocations handled automatically by placer.\n"
          ],
          "name": "stdout"
        },
        {
          "output_type": "execute_result",
          "data": {
            "text/plain": [
              "<tf.Variable 'W1:0' shape=(3, 3, 3, 1, 8) dtype=float32_ref>"
            ]
          },
          "metadata": {
            "tags": []
          },
          "execution_count": 7
        }
      ]
    },
    {
      "metadata": {
        "colab_type": "text",
        "id": "V9cuE5201N9b"
      },
      "cell_type": "markdown",
      "source": [
        "#### Step 2 - include the following in a \"convolution layer\":\n",
        "- (a) 3d convolution with padded feature maps (for convenience in working out the sizes at different resolution levels)\n",
        "- (b) batch normalisation, and\n",
        "- (c) nonlinear activation (relu in this case) ***??? rectified linear unit = nonlinear?***\n",
        "- (d) pooling layer"
      ]
    },
    {
      "metadata": {
        "colab_type": "code",
        "id": "AxWzHZtLIjnI",
        "colab": {}
      },
      "cell_type": "code",
      "source": [
        "strides_one = [1, 1, 1, 1, 1]  # stride of the sliding window used in convolution\n",
        "layer1c = tf.nn.relu(tf.contrib.layers.batch_norm(tf.nn.conv3d(input_image, W1, strides_one, padding=\"SAME\")))\n",
        "k_pool = [1, 2, 2, 2, 1]  # kernel for pooling\n",
        "layer1 = tf.nn.max_pool3d(layer1c, k_pool, strides_one, \"SAME\")\n",
        "\n"
      ],
      "execution_count": 0,
      "outputs": []
    },
    {
      "metadata": {
        "colab_type": "code",
        "id": "ToOFeSdPImsh",
        "outputId": "8e84c0f4-3986-4cda-d09a-d7e0ee1a4c2e",
        "colab": {
          "base_uri": "https://localhost:8080/",
          "height": 51
        }
      },
      "cell_type": "code",
      "source": [
        "# checking output\n",
        "print(layer1c,layer1)\n",
        "print(input_image)"
      ],
      "execution_count": 9,
      "outputs": [
        {
          "output_type": "stream",
          "text": [
            "Tensor(\"Relu:0\", shape=(4, 16, 64, 64, 8), dtype=float32) Tensor(\"MaxPool3D:0\", shape=(4, 16, 64, 64, 8), dtype=float32)\n",
            "Tensor(\"strided_slice:0\", shape=(4, 16, 64, 64, 1), dtype=float32)\n"
          ],
          "name": "stdout"
        }
      ]
    },
    {
      "metadata": {
        "colab_type": "text",
        "id": "4FLCLqPn1N9h"
      },
      "cell_type": "markdown",
      "source": [
        "#### Step3 - add a down-sampling convolution layers"
      ]
    },
    {
      "metadata": {
        "colab_type": "code",
        "id": "sVmwnNSo1N9i",
        "colab": {}
      },
      "cell_type": "code",
      "source": [
        "nc2 = nc1*2  # double the number of feature maps\n",
        "W2 = tf.get_variable(\"W2\", shape=k_conv+[nc1, nc2], initializer=tf.contrib.layers.xavier_initializer())\n",
        "layer2c = tf.nn.relu(tf.contrib.layers.batch_norm(tf.nn.conv3d(layer1, W2, strides_one, \"SAME\")))\n",
        "# down-sample via pooling layer\n",
        "strides_two = [1, 2, 2, 2, 1]  # stride used for down-sampling and up-sampling\n",
        "layer2 = tf.nn.max_pool3d(layer2c, k_pool, strides_two, \"SAME\")"
      ],
      "execution_count": 0,
      "outputs": []
    },
    {
      "metadata": {
        "colab_type": "code",
        "id": "AEVQBnVaMSJ_",
        "outputId": "33d45df5-dc3c-4ec2-a6a4-0ae359ca04bc",
        "colab": {
          "base_uri": "https://localhost:8080/",
          "height": 34
        }
      },
      "cell_type": "code",
      "source": [
        "# checking output\n",
        "print(layer2c,layer2)"
      ],
      "execution_count": 11,
      "outputs": [
        {
          "output_type": "stream",
          "text": [
            "Tensor(\"Relu_1:0\", shape=(4, 16, 64, 64, 16), dtype=float32) Tensor(\"MaxPool3D_1:0\", shape=(4, 8, 32, 32, 16), dtype=float32)\n"
          ],
          "name": "stdout"
        }
      ]
    },
    {
      "metadata": {
        "colab_type": "text",
        "id": "0pnxK9nR1N9l"
      },
      "cell_type": "markdown",
      "source": [
        "#### Step4 - add two more of these down-sampling blocks"
      ]
    },
    {
      "metadata": {
        "colab_type": "code",
        "id": "yjoCsJuj1N9m",
        "colab": {}
      },
      "cell_type": "code",
      "source": [
        "nc3 = nc2*2\n",
        "W3 = tf.get_variable(\"W3\", shape=k_conv+[nc2, nc3], initializer=tf.contrib.layers.xavier_initializer())\n",
        "layer3c = tf.nn.relu(tf.contrib.layers.batch_norm(tf.nn.conv3d(layer2, W3, strides_one, \"SAME\")))\n",
        "layer3 = tf.nn.max_pool3d(layer3c, k_pool, strides_two, \"SAME\")\n",
        "\n",
        "nc4 = nc3*2\n",
        "W4 = tf.get_variable(\"W4\", shape=k_conv+[nc3, nc4], initializer=tf.contrib.layers.xavier_initializer())\n",
        "layer4c = tf.nn.relu(tf.contrib.layers.batch_norm(tf.nn.conv3d(layer3, W4, strides_one, \"SAME\")))\n",
        "layer4 = tf.nn.max_pool3d(layer4c, k_pool, strides_two, \"SAME\")"
      ],
      "execution_count": 0,
      "outputs": []
    },
    {
      "metadata": {
        "colab_type": "code",
        "id": "PgMaS04xM42Y",
        "outputId": "c7ed92cb-a2f7-4d83-fa27-6e9c0d99ef8c",
        "colab": {
          "base_uri": "https://localhost:8080/",
          "height": 51
        }
      },
      "cell_type": "code",
      "source": [
        "# checking output\n",
        "print(\"layer3: \",layer3c,layer3)\n",
        "print(\"layer4: \",layer4c,layer4)\n"
      ],
      "execution_count": 13,
      "outputs": [
        {
          "output_type": "stream",
          "text": [
            "layer3:  Tensor(\"Relu_2:0\", shape=(4, 8, 32, 32, 32), dtype=float32) Tensor(\"MaxPool3D_2:0\", shape=(4, 4, 16, 16, 32), dtype=float32)\n",
            "layer4:  Tensor(\"Relu_3:0\", shape=(4, 4, 16, 16, 64), dtype=float32) Tensor(\"MaxPool3D_3:0\", shape=(4, 2, 8, 8, 64), dtype=float32)\n"
          ],
          "name": "stdout"
        }
      ]
    },
    {
      "metadata": {
        "colab_type": "text",
        "id": "WCIgLDlz1N9q"
      },
      "cell_type": "markdown",
      "source": [
        "#### Step5 - add a convolution layer without sampling/pooling at the end of down-sampling blocks (i.e. the \"encoder\")"
      ]
    },
    {
      "metadata": {
        "colab_type": "code",
        "id": "myNKBKAW1N9r",
        "colab": {}
      },
      "cell_type": "code",
      "source": [
        "nc5 = nc4*2\n",
        "W5 = tf.get_variable(\"W5\", shape=k_conv+[nc4, nc5], initializer=tf.contrib.layers.xavier_initializer())\n",
        "layer5 = tf.nn.relu(tf.contrib.layers.batch_norm(tf.nn.conv3d(layer4, W5, strides_one, \"SAME\")))"
      ],
      "execution_count": 0,
      "outputs": []
    },
    {
      "metadata": {
        "colab_type": "code",
        "id": "AG3GX5DENq_A",
        "outputId": "ee8c9a22-10e5-4f5e-9610-3a3582d93a2a",
        "colab": {
          "base_uri": "https://localhost:8080/",
          "height": 34
        }
      },
      "cell_type": "code",
      "source": [
        "# checking output\n",
        "print(\"layer5: \",layer5, W5)"
      ],
      "execution_count": 15,
      "outputs": [
        {
          "output_type": "stream",
          "text": [
            "layer5:  Tensor(\"Relu_4:0\", shape=(4, 2, 8, 8, 128), dtype=float32) <tf.Variable 'W5:0' shape=(3, 3, 3, 64, 128) dtype=float32_ref>\n"
          ],
          "name": "stdout"
        }
      ]
    },
    {
      "metadata": {
        "colab_type": "text",
        "id": "d4K7KuCm1N9u"
      },
      "cell_type": "markdown",
      "source": [
        "#### Step6 - add an up-sampling block (starting the \"decoder\"), with\n",
        "- (a) the number of feature maps are halved;\n",
        "- (b) use transpose convolution for up-sampling;\n",
        "- (c) make sure the output size is the same as that of layer4c so they can be added (or concatenated)"
      ]
    },
    {
      "metadata": {
        "colab_type": "code",
        "id": "M5LYBYJl1N9v",
        "colab": {}
      },
      "cell_type": "code",
      "source": [
        "W4d = tf.get_variable(\"W4d\", shape=k_conv+[nc4, nc5], initializer=tf.contrib.layers.xavier_initializer())\n",
        "layer4d = tf.nn.conv3d_transpose(layer5, W4d, output_shape=layer4c.get_shape(), strides=strides_two, padding=\"SAME\")\n",
        "# (d) add a skip layer (shortcut connection) to the encoder using summation\n",
        "# (e) then add another convolution, batch normalisation and nonlinear activation\n",
        "W4dc = tf.get_variable(\"W4dc\", shape=k_conv+[nc4, nc4], initializer=tf.contrib.layers.xavier_initializer())\n",
        "layer4dc = tf.nn.relu(tf.contrib.layers.batch_norm(tf.nn.conv3d(layer4d+layer4c, W4dc, strides_one, \"SAME\")))"
      ],
      "execution_count": 0,
      "outputs": []
    },
    {
      "metadata": {
        "colab_type": "code",
        "id": "PgnRcIfxOsem",
        "outputId": "cfb6088a-a627-4d97-a95e-f746f34f82ba",
        "colab": {
          "base_uri": "https://localhost:8080/",
          "height": 34
        }
      },
      "cell_type": "code",
      "source": [
        "# checking output\n",
        "print(\"layer4d: \",layer4d, layer4dc)"
      ],
      "execution_count": 17,
      "outputs": [
        {
          "output_type": "stream",
          "text": [
            "layer4d:  Tensor(\"conv3d_transpose:0\", shape=(4, 4, 16, 16, 64), dtype=float32) Tensor(\"Relu_5:0\", shape=(4, 4, 16, 16, 64), dtype=float32)\n"
          ],
          "name": "stdout"
        }
      ]
    },
    {
      "metadata": {
        "colab_type": "text",
        "id": "c6R_FNDR1N9x"
      },
      "cell_type": "markdown",
      "source": [
        "#### Step7 - # add another two of these up-sampling blocks\n",
        "- the final layer should match the original input image size, in order to represent binary segmentation."
      ]
    },
    {
      "metadata": {
        "colab_type": "code",
        "id": "hP3i62gq1N9x",
        "colab": {}
      },
      "cell_type": "code",
      "source": [
        "W3d = tf.get_variable(\"W3d\", shape=k_conv+[nc3, nc4], initializer=tf.contrib.layers.xavier_initializer())\n",
        "layer3d = tf.nn.conv3d_transpose(layer4dc, W3d, layer3c.get_shape(), strides_two, \"SAME\")\n",
        "W3dc = tf.get_variable(\"W3dc\", shape=k_conv+[nc3, nc3], initializer=tf.contrib.layers.xavier_initializer())\n",
        "layer3dc = tf.nn.relu(tf.contrib.layers.batch_norm(tf.nn.conv3d(layer3d+layer3c, W3dc, strides_one, \"SAME\")))\n",
        "\n",
        "W2d = tf.get_variable(\"W2d\", shape=k_conv+[nc2, nc3], initializer=tf.contrib.layers.xavier_initializer())\n",
        "layer2d = tf.nn.conv3d_transpose(layer3dc, W2d, layer2c.get_shape(), strides_two, \"SAME\")\n",
        "W2dc = tf.get_variable(\"W2dc\", shape=k_conv+[nc2, nc2], initializer=tf.contrib.layers.xavier_initializer())\n",
        "layer2dc = tf.nn.relu(tf.contrib.layers.batch_norm(tf.nn.conv3d(layer2d+layer2c, W2dc, strides_one, \"SAME\")))"
      ],
      "execution_count": 0,
      "outputs": []
    },
    {
      "metadata": {
        "colab_type": "code",
        "id": "WsrM0F1XO9SQ",
        "outputId": "b797f470-76a2-41d0-f7de-14b2cb70abf3",
        "colab": {
          "base_uri": "https://localhost:8080/",
          "height": 51
        }
      },
      "cell_type": "code",
      "source": [
        "# checking output\n",
        "print(\"layer3d: \",layer3d, layer3dc)\n",
        "print(\"layer2d: \",layer2d, layer2dc)"
      ],
      "execution_count": 19,
      "outputs": [
        {
          "output_type": "stream",
          "text": [
            "layer3d:  Tensor(\"conv3d_transpose_1:0\", shape=(4, 8, 32, 32, 32), dtype=float32) Tensor(\"Relu_6:0\", shape=(4, 8, 32, 32, 32), dtype=float32)\n",
            "layer2d:  Tensor(\"conv3d_transpose_2:0\", shape=(4, 16, 64, 64, 16), dtype=float32) Tensor(\"Relu_7:0\", shape=(4, 16, 64, 64, 16), dtype=float32)\n"
          ],
          "name": "stdout"
        }
      ]
    },
    {
      "metadata": {
        "colab_type": "text",
        "id": "O1kX4znU1N90"
      },
      "cell_type": "markdown",
      "source": [
        "#### Step8 - add a \"read-out\" layer with a sigmoid activation\n",
        "- this is to represent the class probabilities;\n",
        "- segmentation can be represented by two classes, forground class (prostate gland) and background class;\n",
        "- or, by just one foreground class, commonly used for many loss functions other than cross entropy;\n",
        "- check if output size is expected: *print(layer1d)*"
      ]
    },
    {
      "metadata": {
        "colab_type": "code",
        "id": "1eoyBOa-1N91",
        "colab": {}
      },
      "cell_type": "code",
      "source": [
        "# use single channel for soft Dice loss\n",
        "W1d = tf.get_variable(\"W_out\", shape=k_conv+[nc2, 1], initializer=tf.contrib.layers.xavier_initializer())\n",
        "layer1d = tf.sigmoid(tf.contrib.layers.batch_norm(tf.nn.conv3d(layer2dc, W1d, strides_one, \"SAME\")))\n"
      ],
      "execution_count": 0,
      "outputs": []
    },
    {
      "metadata": {
        "colab_type": "code",
        "id": "pAN64XMVPRJ4",
        "outputId": "c0565b5b-0c2f-4fb5-8e97-1d51e38648ea",
        "colab": {
          "base_uri": "https://localhost:8080/",
          "height": 34
        }
      },
      "cell_type": "code",
      "source": [
        "print(\"layer1d: \",layer1d)"
      ],
      "execution_count": 21,
      "outputs": [
        {
          "output_type": "stream",
          "text": [
            "layer1d:  Tensor(\"Sigmoid:0\", shape=(4, 16, 64, 64, 1), dtype=float32)\n"
          ],
          "name": "stdout"
        }
      ]
    },
    {
      "metadata": {
        "colab_type": "text",
        "id": "7lsgUwwd1N96"
      },
      "cell_type": "markdown",
      "source": [
        "### 4.2.3 Loss for image segmentation\n",
        "Cross-entropy can be used to treat segmentation as a voxel classification problem. Probabilitic (soft) Dice is also widely used."
      ]
    },
    {
      "metadata": {
        "colab_type": "code",
        "id": "QcfHTnSz1N97",
        "colab": {}
      },
      "cell_type": "code",
      "source": [
        "# loss based on Dice, between predicted segmentation layer_out and ground-truth label\n",
        "dice_numerator = tf.reduce_sum(layer1d*input_label, axis=[1, 2, 3, 4]) * 2\n",
        "# adding a small value for numerical stability\n",
        "dice_denominator = tf.reduce_sum(input_label, axis=[1, 2, 3, 4]) + tf.reduce_sum(layer1d, axis=[1, 2, 3, 4])+1e-6\n",
        "dice = dice_numerator / dice_denominator\n",
        "loss = 1 - tf.reduce_mean(dice)"
      ],
      "execution_count": 0,
      "outputs": []
    },
    {
      "metadata": {
        "colab_type": "code",
        "id": "sxHOj6djQSYU",
        "outputId": "abc1df30-b3bd-4a5a-95f5-5bd8c80fcee3",
        "colab": {
          "base_uri": "https://localhost:8080/",
          "height": 34
        }
      },
      "cell_type": "code",
      "source": [
        "# check output, dice is 4 because of 4 images individually?\n",
        "print(dice_numerator,dice,loss)"
      ],
      "execution_count": 23,
      "outputs": [
        {
          "output_type": "stream",
          "text": [
            "Tensor(\"mul_1:0\", shape=(4,), dtype=float32) Tensor(\"truediv:0\", shape=(4,), dtype=float32) Tensor(\"sub:0\", shape=(), dtype=float32)\n"
          ],
          "name": "stdout"
        }
      ]
    },
    {
      "metadata": {
        "colab_type": "text",
        "id": "Bnrh86qC1N99"
      },
      "cell_type": "markdown",
      "source": [
        "### 4.2.4 Optimiser\n",
        "Build a training op to specify the numerical optimisation algorithm."
      ]
    },
    {
      "metadata": {
        "colab_type": "code",
        "id": "C81F54ai1N9_",
        "outputId": "caf5d918-1fe6-46ea-a4d6-7c4d8dbe064f",
        "colab": {
          "base_uri": "https://localhost:8080/",
          "height": 88
        }
      },
      "cell_type": "code",
      "source": [
        "train_op = tf.train.AdamOptimizer(learning_rate=0.1).minimize(loss)"
      ],
      "execution_count": 24,
      "outputs": [
        {
          "output_type": "stream",
          "text": [
            "WARNING:tensorflow:From /usr/local/lib/python3.6/dist-packages/tensorflow/python/ops/math_ops.py:3066: to_int32 (from tensorflow.python.ops.math_ops) is deprecated and will be removed in a future version.\n",
            "Instructions for updating:\n",
            "Use tf.cast instead.\n"
          ],
          "name": "stdout"
        }
      ]
    },
    {
      "metadata": {
        "colab_type": "text",
        "id": "-NJ957Ot1N-C"
      },
      "cell_type": "markdown",
      "source": [
        "## 4.3 Set Up the Session"
      ]
    },
    {
      "metadata": {
        "colab_type": "code",
        "id": "6HBXjqnn1N-D",
        "colab": {}
      },
      "cell_type": "code",
      "source": [
        "sess = tf.Session()\n",
        "sess.run(tf.global_variables_initializer())\n",
        "total_iter = int(1e5)+1 #int(1.1e4) # int(1e5)\n",
        "n = 50  # 50 training image-label pairs\n",
        "num_minibatch = int(n/size_minibatch)  # how many minibatches in each epoch\n",
        "indices_train = [i for i in range(n)]\n",
        "# data reader\n",
        "DataFeeder = DataReader(path_to_data)"
      ],
      "execution_count": 0,
      "outputs": []
    },
    {
      "metadata": {
        "colab_type": "code",
        "id": "TUvj__mcRBdV",
        "outputId": "6c3288e9-d5f2-4723-e758-f8e00b30bb11",
        "colab": {
          "base_uri": "https://localhost:8080/",
          "height": 34
        }
      },
      "cell_type": "code",
      "source": [
        "# check output\n",
        "print(num_minibatch)"
      ],
      "execution_count": 26,
      "outputs": [
        {
          "output_type": "stream",
          "text": [
            "12\n"
          ],
          "name": "stdout"
        }
      ]
    },
    {
      "metadata": {
        "colab_type": "text",
        "id": "MeY96L6h1N-G"
      },
      "cell_type": "markdown",
      "source": [
        "## 4.4 Train with Minibatch Optimisation\n",
        "- Shuffle data every epoch\n",
        "- Feed one minibatch of the data in each iteration\n",
        "- Print training information\n",
        "- Test during training"
      ]
    },
    {
      "metadata": {
        "colab_type": "code",
        "id": "2rK7bzUy1N-G",
        "outputId": "e493a33c-8eff-418e-804f-2f62a6ac4908",
        "colab": {
          "base_uri": "https://localhost:8080/",
          "height": 5610
        }
      },
      "cell_type": "code",
      "source": [
        "import random\n",
        "\n",
        "\n",
        "# start the optimisation\n",
        "for step in range(total_iter):\n",
        "\n",
        "    # shuffle data every time start a new set of minibatches\n",
        "    if step in range(0, total_iter, num_minibatch):\n",
        "        random.shuffle(indices_train)\n",
        "\n",
        "    # arrange data indices for a minibatch\n",
        "    minibatch_idx = step % num_minibatch  # minibatch index\n",
        "    indices_mb = indices_train[minibatch_idx*size_minibatch:(minibatch_idx+1)*size_minibatch]\n",
        "    trainFeed = {ph_image: DataFeeder.load_images_train(indices_mb),\n",
        "                 ph_label: DataFeeder.load_labels_train(indices_mb)}\n",
        "\n",
        "    # update the variables\n",
        "    sess.run(train_op, feed_dict=trainFeed)\n",
        "\n",
        "    # print training information\n",
        "    if (step % 10) == 0:\n",
        "        loss_train = sess.run(loss, feed_dict=trainFeed)\n",
        "        print('Step %d: Loss=%f' % (step, loss_train))\n",
        "    if (step % 100) == 0:\n",
        "        dice_train = sess.run(dice, feed_dict=trainFeed)\n",
        "        print('Individual training-Dice:')\n",
        "        print(dice_train)\n",
        "\n",
        "    # --- simple tests during training ---\n",
        "    if (step % 500) == 0:\n",
        "        indices_test = [random.randrange(30) for i in range(size_minibatch)]  # select size_minibatch test data\n",
        "        testFeed = {ph_image: DataFeeder.load_images_test(indices_test)}\n",
        "        layer1d_test = sess.run(layer1d, feed_dict=testFeed)\n",
        "        # save the segmentation\n",
        "        for idx in range(size_minibatch):\n",
        "            np.save(\"./label_test%02d_step%06d.npy\" % (indices_test[idx], step), layer1d_test[idx, ...])\n",
        "        print('Test results saved.')\n",
        "    \n",
        "    \n",
        "tf.saved_model.simple_save(sess,'/content/model',inputs={\"labels\": ph_label,\"images\": ph_image},\n",
        "                           outputs = {\"out\": layer1d},legacy_init_op=None)\n",
        "\n",
        "sess.close()"
      ],
      "execution_count": 0,
      "outputs": [
        {
          "output_type": "stream",
          "text": [
            "Step 0: Loss=0.971957\n",
            "Individual training-Dice:\n",
            "[0.02059329 0.02486956 0.04751811 0.01919226]\n",
            "Test results saved.\n",
            "Step 10: Loss=0.914606\n",
            "Step 20: Loss=0.848422\n",
            "Step 30: Loss=0.791648\n",
            "Step 40: Loss=0.651919\n",
            "Step 50: Loss=0.506504\n",
            "Step 60: Loss=0.492651\n",
            "Step 70: Loss=0.573391\n",
            "Step 80: Loss=0.544325\n",
            "Step 90: Loss=0.426994\n",
            "Step 100: Loss=0.497890\n",
            "Individual training-Dice:\n",
            "[0.49843922 0.41924632 0.59965414 0.49110144]\n",
            "Step 110: Loss=0.482750\n",
            "Step 120: Loss=0.526641\n",
            "Step 130: Loss=0.472540\n",
            "Step 140: Loss=0.580538\n",
            "Step 150: Loss=0.570976\n",
            "Step 160: Loss=0.393890\n",
            "Step 170: Loss=0.433389\n",
            "Step 180: Loss=0.540926\n",
            "Step 190: Loss=0.470146\n",
            "Step 200: Loss=0.462322\n",
            "Individual training-Dice:\n",
            "[0.652691   0.52739716 0.47411975 0.49650612]\n",
            "Step 210: Loss=0.400255\n",
            "Step 220: Loss=0.478375\n",
            "Step 230: Loss=0.494442\n",
            "Step 240: Loss=0.535558\n",
            "Step 250: Loss=0.378158\n",
            "Step 260: Loss=0.512562\n",
            "Step 270: Loss=0.397929\n",
            "Step 280: Loss=0.415948\n",
            "Step 290: Loss=0.355888\n",
            "Step 300: Loss=0.414053\n",
            "Individual training-Dice:\n",
            "[0.6309904  0.64015436 0.41771588 0.6549272 ]\n",
            "Step 310: Loss=0.471911\n",
            "Step 320: Loss=0.380284\n",
            "Step 330: Loss=0.386455\n",
            "Step 340: Loss=0.361172\n",
            "Step 350: Loss=0.387852\n",
            "Step 360: Loss=0.356974\n",
            "Step 370: Loss=0.446893\n",
            "Step 380: Loss=0.576544\n",
            "Step 390: Loss=0.340780\n",
            "Step 400: Loss=0.400315\n",
            "Individual training-Dice:\n",
            "[0.68287325 0.3634916  0.64406806 0.7083088 ]\n",
            "Step 410: Loss=0.325595\n",
            "Step 420: Loss=0.311911\n",
            "Step 430: Loss=0.329523\n",
            "Step 440: Loss=0.333960\n",
            "Step 450: Loss=0.469748\n",
            "Step 460: Loss=0.341706\n",
            "Step 470: Loss=0.496526\n",
            "Step 480: Loss=0.344609\n",
            "Step 490: Loss=0.317828\n",
            "Step 500: Loss=0.390865\n",
            "Individual training-Dice:\n",
            "[0.6859444  0.59167665 0.67126125 0.48765713]\n",
            "Test results saved.\n",
            "Step 510: Loss=0.322473\n",
            "Step 520: Loss=0.291676\n",
            "Step 530: Loss=0.349923\n",
            "Step 540: Loss=0.294241\n",
            "Step 550: Loss=0.468724\n",
            "Step 560: Loss=0.303437\n",
            "Step 570: Loss=0.372377\n",
            "Step 580: Loss=0.304794\n",
            "Step 590: Loss=0.274912\n",
            "Step 600: Loss=0.276618\n",
            "Individual training-Dice:\n",
            "[0.74799246 0.7586946  0.63553303 0.75130653]\n",
            "Step 610: Loss=0.331339\n",
            "Step 620: Loss=0.368631\n",
            "Step 630: Loss=0.336760\n",
            "Step 640: Loss=0.423962\n",
            "Step 650: Loss=0.371560\n",
            "Step 660: Loss=0.332570\n",
            "Step 670: Loss=0.354405\n",
            "Step 680: Loss=0.309760\n",
            "Step 690: Loss=0.343036\n",
            "Step 700: Loss=0.280972\n",
            "Individual training-Dice:\n",
            "[0.6987189  0.69515824 0.7443834  0.73785114]\n",
            "Step 710: Loss=0.304141\n",
            "Step 720: Loss=0.404904\n",
            "Step 730: Loss=0.390043\n",
            "Step 740: Loss=0.484992\n",
            "Step 750: Loss=0.311888\n",
            "Step 760: Loss=0.270148\n",
            "Step 770: Loss=0.469519\n",
            "Step 780: Loss=0.272854\n",
            "Step 790: Loss=0.381822\n",
            "Step 800: Loss=0.265366\n",
            "Individual training-Dice:\n",
            "[0.6958189 0.7547967 0.7477598 0.7401588]\n",
            "Step 810: Loss=0.370905\n",
            "Step 820: Loss=0.306725\n",
            "Step 830: Loss=0.273425\n",
            "Step 840: Loss=0.411325\n",
            "Step 850: Loss=0.348970\n",
            "Step 860: Loss=0.280385\n",
            "Step 870: Loss=0.270643\n",
            "Step 880: Loss=0.252473\n",
            "Step 890: Loss=0.359108\n",
            "Step 900: Loss=0.345443\n",
            "Individual training-Dice:\n",
            "[0.7205062 0.721065  0.739444  0.4372114]\n",
            "Step 910: Loss=0.294416\n",
            "Step 920: Loss=0.299090\n",
            "Step 930: Loss=0.274584\n",
            "Step 940: Loss=0.320947\n",
            "Step 950: Loss=0.322757\n",
            "Step 960: Loss=0.296986\n",
            "Step 970: Loss=0.341633\n",
            "Step 980: Loss=0.371905\n",
            "Step 990: Loss=0.468933\n",
            "Step 1000: Loss=0.312987\n",
            "Individual training-Dice:\n",
            "[0.6945525  0.616397   0.7131849  0.72391677]\n",
            "Test results saved.\n",
            "Step 1010: Loss=0.265255\n",
            "Step 1020: Loss=0.254885\n",
            "Step 1030: Loss=0.258520\n",
            "Step 1040: Loss=0.293618\n",
            "Step 1050: Loss=0.266785\n",
            "Step 1060: Loss=0.273422\n",
            "Step 1070: Loss=0.299462\n",
            "Step 1080: Loss=0.437236\n",
            "Step 1090: Loss=0.271358\n",
            "Step 1100: Loss=0.292153\n",
            "Individual training-Dice:\n",
            "[0.7383548  0.70882326 0.68672305 0.6974862 ]\n",
            "Step 1110: Loss=0.508439\n",
            "Step 1120: Loss=0.460836\n",
            "Step 1130: Loss=0.276739\n",
            "Step 1140: Loss=0.300754\n",
            "Step 1150: Loss=0.245410\n",
            "Step 1160: Loss=0.351955\n",
            "Step 1170: Loss=0.259446\n",
            "Step 1180: Loss=0.282903\n",
            "Step 1190: Loss=0.406072\n",
            "Step 1200: Loss=0.359378\n",
            "Individual training-Dice:\n",
            "[0.7182956  0.7081822  0.7455638  0.39044562]\n",
            "Step 1210: Loss=0.261833\n",
            "Step 1220: Loss=0.257452\n",
            "Step 1230: Loss=0.309430\n",
            "Step 1240: Loss=0.240399\n",
            "Step 1250: Loss=0.276800\n",
            "Step 1260: Loss=0.346749\n",
            "Step 1270: Loss=0.255827\n",
            "Step 1280: Loss=0.268233\n",
            "Step 1290: Loss=0.259233\n",
            "Step 1300: Loss=0.289022\n",
            "Individual training-Dice:\n",
            "[0.71175456 0.7154222  0.70632213 0.71041375]\n",
            "Step 1310: Loss=0.255293\n",
            "Step 1320: Loss=0.371335\n",
            "Step 1330: Loss=0.243136\n",
            "Step 1340: Loss=0.258422\n",
            "Step 1350: Loss=0.348823\n",
            "Step 1360: Loss=0.255000\n",
            "Step 1370: Loss=0.314801\n",
            "Step 1380: Loss=0.265565\n",
            "Step 1390: Loss=0.286473\n",
            "Step 1400: Loss=0.266808\n",
            "Individual training-Dice:\n",
            "[0.74236417 0.7388356  0.7183025  0.7332662 ]\n",
            "Step 1410: Loss=0.248174\n",
            "Step 1420: Loss=0.267273\n",
            "Step 1430: Loss=0.261857\n",
            "Step 1440: Loss=0.387377\n",
            "Step 1450: Loss=0.366956\n",
            "Step 1460: Loss=0.255276\n",
            "Step 1470: Loss=0.331147\n",
            "Step 1480: Loss=0.315550\n",
            "Step 1490: Loss=0.273435\n",
            "Step 1500: Loss=0.283959\n",
            "Individual training-Dice:\n",
            "[0.7448542  0.59172946 0.76147467 0.7661053 ]\n",
            "Test results saved.\n",
            "Step 1510: Loss=0.258452\n",
            "Step 1520: Loss=0.248764\n",
            "Step 1530: Loss=0.284769\n",
            "Step 1540: Loss=0.391655\n",
            "Step 1550: Loss=0.317119\n",
            "Step 1560: Loss=0.273131\n",
            "Step 1570: Loss=0.308941\n",
            "Step 1580: Loss=0.410478\n",
            "Step 1590: Loss=0.239632\n",
            "Step 1600: Loss=0.304436\n",
            "Individual training-Dice:\n",
            "[0.73253345 0.59275377 0.7193322  0.73763645]\n",
            "Step 1610: Loss=0.355731\n",
            "Step 1620: Loss=0.343090\n",
            "Step 1630: Loss=0.245468\n",
            "Step 1640: Loss=0.267491\n",
            "Step 1650: Loss=0.305767\n",
            "Step 1660: Loss=0.298379\n",
            "Step 1670: Loss=0.418990\n",
            "Step 1680: Loss=0.295584\n",
            "Step 1690: Loss=0.341193\n",
            "Step 1700: Loss=0.273530\n",
            "Individual training-Dice:\n",
            "[0.71976846 0.7080886  0.7474275  0.73059374]\n",
            "Step 1710: Loss=0.291667\n",
            "Step 1720: Loss=0.247462\n",
            "Step 1730: Loss=0.320787\n",
            "Step 1740: Loss=0.229814\n",
            "Step 1750: Loss=0.241193\n",
            "Step 1760: Loss=0.232931\n",
            "Step 1770: Loss=0.285180\n",
            "Step 1780: Loss=0.291242\n",
            "Step 1790: Loss=0.312950\n",
            "Step 1800: Loss=0.327439\n",
            "Individual training-Dice:\n",
            "[0.70647365 0.73814154 0.73844415 0.5071849 ]\n",
            "Step 1810: Loss=0.267468\n",
            "Step 1820: Loss=0.230348\n",
            "Step 1830: Loss=0.283862\n",
            "Step 1840: Loss=0.356150\n",
            "Step 1850: Loss=0.254361\n",
            "Step 1860: Loss=0.240033\n",
            "Step 1870: Loss=0.419903\n",
            "Step 1880: Loss=0.424284\n",
            "Step 1890: Loss=0.312819\n",
            "Step 1900: Loss=0.434368\n",
            "Individual training-Dice:\n",
            "[0.66011345 0.14357834 0.7248359  0.7339993 ]\n",
            "Step 1910: Loss=0.293704\n",
            "Step 1920: Loss=0.293414\n",
            "Step 1930: Loss=0.247882\n",
            "Step 1940: Loss=0.342056\n",
            "Step 1950: Loss=0.240062\n",
            "Step 1960: Loss=0.266467\n",
            "Step 1970: Loss=0.351295\n",
            "Step 1980: Loss=0.340537\n",
            "Step 1990: Loss=0.275141\n",
            "Step 2000: Loss=0.241052\n",
            "Individual training-Dice:\n",
            "[0.79556227 0.7800164  0.7016421  0.75857145]\n",
            "Test results saved.\n",
            "Step 2010: Loss=0.356177\n",
            "Step 2020: Loss=0.233713\n",
            "Step 2030: Loss=0.232831\n",
            "Step 2040: Loss=0.270020\n",
            "Step 2050: Loss=0.293469\n",
            "Step 2060: Loss=0.252556\n",
            "Step 2070: Loss=0.237565\n",
            "Step 2080: Loss=0.392091\n",
            "Step 2090: Loss=0.241106\n",
            "Step 2100: Loss=0.229967\n",
            "Individual training-Dice:\n",
            "[0.7803992  0.7750768  0.7646006  0.76005745]\n",
            "Step 2110: Loss=0.274780\n",
            "Step 2120: Loss=0.278209\n",
            "Step 2130: Loss=0.283727\n",
            "Step 2140: Loss=0.238825\n",
            "Step 2150: Loss=0.236375\n",
            "Step 2160: Loss=0.369255\n",
            "Step 2170: Loss=0.288516\n",
            "Step 2180: Loss=0.237725\n",
            "Step 2190: Loss=0.285172\n",
            "Step 2200: Loss=0.269358\n",
            "Individual training-Dice:\n",
            "[0.76185906 0.75497234 0.75445575 0.6512827 ]\n",
            "Step 2210: Loss=0.303097\n",
            "Step 2220: Loss=0.240566\n",
            "Step 2230: Loss=0.352648\n",
            "Step 2240: Loss=0.276442\n",
            "Step 2250: Loss=0.244257\n",
            "Step 2260: Loss=0.352486\n",
            "Step 2270: Loss=0.237886\n",
            "Step 2280: Loss=0.329298\n",
            "Step 2290: Loss=0.272649\n",
            "Step 2300: Loss=0.291736\n",
            "Individual training-Dice:\n",
            "[0.5903713 0.7482913 0.7393576 0.7550365]\n",
            "Step 2310: Loss=0.249314\n",
            "Step 2320: Loss=0.310296\n",
            "Step 2330: Loss=0.279012\n",
            "Step 2340: Loss=0.299611\n",
            "Step 2350: Loss=0.238083\n",
            "Step 2360: Loss=0.278571\n",
            "Step 2370: Loss=0.470153\n",
            "Step 2380: Loss=0.311986\n",
            "Step 2390: Loss=0.251031\n",
            "Step 2400: Loss=0.228607\n",
            "Individual training-Dice:\n",
            "[0.78780097 0.8151431  0.78661853 0.69600993]\n",
            "Step 2410: Loss=0.245433\n",
            "Step 2420: Loss=0.272218\n",
            "Step 2430: Loss=0.264774\n",
            "Step 2440: Loss=0.249415\n",
            "Step 2450: Loss=0.237744\n",
            "Step 2460: Loss=0.320772\n",
            "Step 2470: Loss=0.241856\n",
            "Step 2480: Loss=0.304549\n",
            "Step 2490: Loss=0.260061\n",
            "Step 2500: Loss=0.398531\n",
            "Individual training-Dice:\n",
            "[0.7498557  0.75519156 0.1374485  0.7633812 ]\n",
            "Test results saved.\n",
            "Step 2510: Loss=0.217408\n",
            "Step 2520: Loss=0.242074\n",
            "Step 2530: Loss=0.267639\n",
            "Step 2540: Loss=0.260456\n",
            "Step 2550: Loss=0.310617\n",
            "Step 2560: Loss=0.345042\n",
            "Step 2570: Loss=0.354230\n",
            "Step 2580: Loss=0.262856\n",
            "Step 2590: Loss=0.282494\n",
            "Step 2600: Loss=0.278519\n",
            "Individual training-Dice:\n",
            "[0.70638555 0.72521234 0.7344604  0.7198638 ]\n",
            "Step 2610: Loss=0.339578\n",
            "Step 2620: Loss=0.279561\n",
            "Step 2630: Loss=0.316403\n",
            "Step 2640: Loss=0.372963\n",
            "Step 2650: Loss=0.227908\n",
            "Step 2660: Loss=0.223371\n",
            "Step 2670: Loss=0.346066\n",
            "Step 2680: Loss=0.238136\n"
          ],
          "name": "stdout"
        }
      ]
    },
    {
      "metadata": {
        "colab_type": "text",
        "id": "Vd4RQ2HA1N-K"
      },
      "cell_type": "markdown",
      "source": [
        "## 4.5 Inspect the Segmentation Results on Test Data\n",
        "- A seperate notebook/terminal might be useful to run the following file-reading, avoiding to kill the optimisation"
      ]
    },
    {
      "metadata": {
        "colab_type": "code",
        "id": "E3umedwr1N-L",
        "colab": {
          "base_uri": "https://localhost:8080/",
          "height": 833
        },
        "outputId": "29386712-e0fc-4cb4-eff1-313ed803a0cb"
      },
      "cell_type": "code",
      "source": [
        "# available results\n",
        "!dir"
      ],
      "execution_count": 43,
      "outputs": [
        {
          "output_type": "stream",
          "text": [
            "label_test00_step000500.npy  label_test15_step009500.npy\n",
            "label_test00_step001500.npy  label_test16_step000000.npy\n",
            "label_test00_step005000.npy  label_test16_step001000.npy\n",
            "label_test01_step000500.npy  label_test16_step002500.npy\n",
            "label_test01_step002500.npy  label_test16_step009500.npy\n",
            "label_test01_step006500.npy  label_test17_step002500.npy\n",
            "label_test01_step010000.npy  label_test17_step007500.npy\n",
            "label_test02_step000000.npy  label_test17_step008000.npy\n",
            "label_test02_step004000.npy  label_test18_step001500.npy\n",
            "label_test02_step004500.npy  label_test18_step002500.npy\n",
            "label_test03_step000500.npy  label_test18_step009000.npy\n",
            "label_test03_step001000.npy  label_test19_step005500.npy\n",
            "label_test03_step005000.npy  label_test19_step006000.npy\n",
            "label_test03_step007000.npy  label_test19_step009500.npy\n",
            "label_test03_step008500.npy  label_test19_step010000.npy\n",
            "label_test03_step009000.npy  label_test20_step001000.npy\n",
            "label_test03_step010000.npy  label_test20_step005000.npy\n",
            "label_test04_step000500.npy  label_test20_step006500.npy\n",
            "label_test05_step007500.npy  label_test21_step000000.npy\n",
            "label_test05_step010500.npy  label_test21_step002000.npy\n",
            "label_test06_step000000.npy  label_test21_step004500.npy\n",
            "label_test06_step000500.npy  label_test21_step006000.npy\n",
            "label_test06_step002000.npy  label_test21_step008000.npy\n",
            "label_test06_step003000.npy  label_test21_step010500.npy\n",
            "label_test06_step004500.npy  label_test22_step000000.npy\n",
            "label_test06_step008000.npy  label_test22_step004000.npy\n",
            "label_test07_step000500.npy  label_test23_step001000.npy\n",
            "label_test07_step001500.npy  label_test23_step003000.npy\n",
            "label_test07_step002000.npy  label_test24_step003000.npy\n",
            "label_test08_step003500.npy  label_test24_step005500.npy\n",
            "label_test08_step004500.npy  label_test24_step007000.npy\n",
            "label_test08_step006500.npy  label_test24_step009000.npy\n",
            "label_test09_step000500.npy  label_test24_step009500.npy\n",
            "label_test09_step004000.npy  label_test25_step000000.npy\n",
            "label_test09_step008000.npy  label_test25_step002000.npy\n",
            "label_test10_step004000.npy  label_test25_step005000.npy\n",
            "label_test10_step008500.npy  label_test25_step007000.npy\n",
            "label_test11_step001500.npy  label_test25_step008500.npy\n",
            "label_test11_step009000.npy  label_test26_step003500.npy\n",
            "label_test12_step005500.npy  label_test27_step005500.npy\n",
            "label_test12_step008500.npy  label_test27_step007500.npy\n",
            "label_test12_step010500.npy  label_test28_step000000.npy\n",
            "label_test13_step003000.npy  label_test28_step006000.npy\n",
            "label_test13_step003500.npy  label_test29_step003500.npy\n",
            "label_test13_step010000.npy  label_test29_step010500.npy\n",
            "label_test14_step000000.npy  promise12\n",
            "label_test14_step006000.npy  sample_data\n",
            "label_test15_step007500.npy\n"
          ],
          "name": "stdout"
        }
      ]
    },
    {
      "metadata": {
        "id": "_Ex8QdLn0jB3",
        "colab_type": "code",
        "colab": {
          "base_uri": "https://localhost:8080/",
          "height": 34
        },
        "outputId": "462acc33-f852-4eb1-ccfe-ca900f6b931c"
      },
      "cell_type": "code",
      "source": [
        "!pwd"
      ],
      "execution_count": 44,
      "outputs": [
        {
          "output_type": "stream",
          "text": [
            "/content\n"
          ],
          "name": "stdout"
        }
      ]
    },
    {
      "metadata": {
        "colab_type": "text",
        "id": "ZdQyQsjQ1N-P"
      },
      "cell_type": "markdown",
      "source": [
        "In this case, more than 500 iterations should produce resaonble results on test data, while several thousand should approach convergence. Since the labels for the test data are not available, the results are assessed qualitatively. Alternatively, one should consider using cross-validation on the training data.\n",
        "\n",
        "As the time of preparing this tutorial, the Challenge still accepts [submissions](https://promise12.grand-challenge.org/evaluation/submissions/create/), although they should be based on original data before resampling.  "
      ]
    },
    {
      "metadata": {
        "colab_type": "code",
        "id": "aMf4ACdj1N-P",
        "colab": {
          "base_uri": "https://localhost:8080/",
          "height": 553
        },
        "outputId": "d70d9c2b-78e9-40ad-88a2-75eaa0af21f3"
      },
      "cell_type": "code",
      "source": [
        "# specify these to plot the results w.r.t. the images\n",
        "step = 10500  \n",
        "idx_case = 29\n",
        "idx_slice = 9\n",
        "\n",
        "image = np.load(os.path.join(path_to_data, \"image_test%02d.npy\" % idx_case))[::2, ::2, ::2]\n",
        "label = np.load(\"label_test%02d_step%06d.npy\" % (idx_case, step))[..., 0]\n",
        "print(label.shape)\n",
        "plt.figure()\n",
        "plt.imshow(image[idx_slice,:,:], cmap='gray')\n",
        "plt.figure()\n",
        "plt.imshow(label[idx_slice,:,:], cmap='gray')"
      ],
      "execution_count": 42,
      "outputs": [
        {
          "output_type": "stream",
          "text": [
            "(16, 64, 64)\n"
          ],
          "name": "stdout"
        },
        {
          "output_type": "execute_result",
          "data": {
            "text/plain": [
              "<matplotlib.image.AxesImage at 0x7fd435ad3828>"
            ]
          },
          "metadata": {
            "tags": []
          },
          "execution_count": 42
        },
        {
          "output_type": "display_data",
          "data": {
            "image/png": "[encoded data removed]",
            "text/plain": [
              "<Figure size 432x288 with 1 Axes>"
            ]
          },
          "metadata": {
            "tags": []
          }
        },
        {
          "output_type": "display_data",
          "data": {
            "image/png": "[encoded data removed]",
            "text/plain": [
              "<Figure size 432x288 with 1 Axes>"
            ]
          },
          "metadata": {
            "tags": []
          }
        }
      ]
    },
    {
      "metadata": {
        "colab_type": "text",
        "id": "fSIPf8DD1N-T"
      },
      "cell_type": "markdown",
      "source": [
        "- If running on Colab, download the saved data:\n",
        "\n",
        "```python\n",
        "from google.colab import files\n",
        "\n",
        "files.download(\"label_test%02d_step%06d.npy\" % (idx_case, step))\n",
        "```"
      ]
    },
    {
      "metadata": {
        "id": "5NW3WuCvux2V",
        "colab_type": "code",
        "colab": {}
      },
      "cell_type": "code",
      "source": [
        "from google.colab import files\n",
        "\n",
        "files.download(\"label_test%02d_step%06d.npy\" % (idx_case, step))"
      ],
      "execution_count": 0,
      "outputs": []
    }
  ]
}